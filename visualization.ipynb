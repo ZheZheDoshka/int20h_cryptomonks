{
 "cells": [
  {
   "cell_type": "code",
   "execution_count": 4,
   "id": "c1b15eb0",
   "metadata": {},
   "outputs": [],
   "source": [
    "import pandas as pd\n",
    "import numpy as np\n",
    "\n",
    "import copy\n",
    "\n",
    "import seaborn as sns\n",
    "import matplotlib.pyplot as plt\n",
    "from sklearn.preprocessing import LabelEncoder"
   ]
  },
  {
   "cell_type": "code",
   "execution_count": 5,
   "id": "324ed5ad",
   "metadata": {},
   "outputs": [],
   "source": [
    "def createdf(filename): #створення фрейму\n",
    "    df = pd.read_csv(filename)\n",
    "    \n",
    "    df = df.loc[:, ~df.columns.str.contains('^Unnamed')]\n",
    "    df.isnull().any()\n",
    "    return(df)"
   ]
  },
  {
   "cell_type": "code",
   "execution_count": 9,
   "id": "e7c23ac5",
   "metadata": {},
   "outputs": [],
   "source": [
    "df = createdf(\"csv//sorted_filled_test.csv\")"
   ]
  },
  {
   "cell_type": "code",
   "execution_count": 10,
   "id": "5bbc0749",
   "metadata": {},
   "outputs": [
    {
     "name": "stdout",
     "output_type": "stream",
     "text": [
      "23357 rows x 9 columns\n"
     ]
    },
    {
     "data": {
      "text/html": [
       "<div>\n",
       "<style scoped>\n",
       "    .dataframe tbody tr th:only-of-type {\n",
       "        vertical-align: middle;\n",
       "    }\n",
       "\n",
       "    .dataframe tbody tr th {\n",
       "        vertical-align: top;\n",
       "    }\n",
       "\n",
       "    .dataframe thead th {\n",
       "        text-align: right;\n",
       "    }\n",
       "</style>\n",
       "<table border=\"1\" class=\"dataframe\">\n",
       "  <thead>\n",
       "    <tr style=\"text-align: right;\">\n",
       "      <th></th>\n",
       "      <th>userid</th>\n",
       "      <th>user_state</th>\n",
       "      <th>event_name</th>\n",
       "      <th>event_attributes</th>\n",
       "      <th>event_created_date</th>\n",
       "      <th>event_platform</th>\n",
       "      <th>device_manufacture</th>\n",
       "      <th>device_model</th>\n",
       "      <th>Subscription Premium Cancel</th>\n",
       "    </tr>\n",
       "  </thead>\n",
       "  <tbody>\n",
       "    <tr>\n",
       "      <th>0</th>\n",
       "      <td>0006869712ec9841dc36234bce245203</td>\n",
       "      <td>MD</td>\n",
       "      <td>Add Payment Method Success</td>\n",
       "      <td>{\"Payment Method\":\"Debit\",\"Tokenized Pay\":\"\"}</td>\n",
       "      <td>2022-01-19 18:47:45</td>\n",
       "      <td>android</td>\n",
       "      <td>samsung</td>\n",
       "      <td>SM-A716U</td>\n",
       "      <td>0</td>\n",
       "    </tr>\n",
       "    <tr>\n",
       "      <th>1</th>\n",
       "      <td>0006869712ec9841dc36234bce245203</td>\n",
       "      <td>MD</td>\n",
       "      <td>Subscription Premium</td>\n",
       "      <td>{\"Start Date\":\"2022-01-19\",\"Renewal Date\":\"202...</td>\n",
       "      <td>2022-01-19 18:48:01</td>\n",
       "      <td>android</td>\n",
       "      <td>samsung</td>\n",
       "      <td>SM-A716U</td>\n",
       "      <td>0</td>\n",
       "    </tr>\n",
       "    <tr>\n",
       "      <th>2</th>\n",
       "      <td>0006869712ec9841dc36234bce245203</td>\n",
       "      <td>MD</td>\n",
       "      <td>Account History Transaction Details</td>\n",
       "      <td>{\"Navigated From\":\"Account History\",\"Status\":\"...</td>\n",
       "      <td>2022-01-19 18:48:08</td>\n",
       "      <td>android</td>\n",
       "      <td>samsung</td>\n",
       "      <td>SM-A716U</td>\n",
       "      <td>0</td>\n",
       "    </tr>\n",
       "    <tr>\n",
       "      <th>3</th>\n",
       "      <td>0006869712ec9841dc36234bce245203</td>\n",
       "      <td>MD</td>\n",
       "      <td>Account History Transaction Details</td>\n",
       "      <td>{\"Navigated From\":\"Account History\",\"Status\":\"...</td>\n",
       "      <td>2022-01-19 18:48:44</td>\n",
       "      <td>android</td>\n",
       "      <td>samsung</td>\n",
       "      <td>SM-A716U</td>\n",
       "      <td>0</td>\n",
       "    </tr>\n",
       "    <tr>\n",
       "      <th>4</th>\n",
       "      <td>0006869712ec9841dc36234bce245203</td>\n",
       "      <td>MD</td>\n",
       "      <td>Add Vehicle Success</td>\n",
       "      <td>{\"Make\":\"Chevrolet\",\"Model\":\"Express 3500\",\"Co...</td>\n",
       "      <td>2022-01-19 18:50:34</td>\n",
       "      <td>android</td>\n",
       "      <td>samsung</td>\n",
       "      <td>SM-A716U</td>\n",
       "      <td>0</td>\n",
       "    </tr>\n",
       "  </tbody>\n",
       "</table>\n",
       "</div>"
      ],
      "text/plain": [
       "                             userid user_state  \\\n",
       "0  0006869712ec9841dc36234bce245203         MD   \n",
       "1  0006869712ec9841dc36234bce245203         MD   \n",
       "2  0006869712ec9841dc36234bce245203         MD   \n",
       "3  0006869712ec9841dc36234bce245203         MD   \n",
       "4  0006869712ec9841dc36234bce245203         MD   \n",
       "\n",
       "                            event_name  \\\n",
       "0           Add Payment Method Success   \n",
       "1                 Subscription Premium   \n",
       "2  Account History Transaction Details   \n",
       "3  Account History Transaction Details   \n",
       "4                  Add Vehicle Success   \n",
       "\n",
       "                                    event_attributes   event_created_date  \\\n",
       "0      {\"Payment Method\":\"Debit\",\"Tokenized Pay\":\"\"}  2022-01-19 18:47:45   \n",
       "1  {\"Start Date\":\"2022-01-19\",\"Renewal Date\":\"202...  2022-01-19 18:48:01   \n",
       "2  {\"Navigated From\":\"Account History\",\"Status\":\"...  2022-01-19 18:48:08   \n",
       "3  {\"Navigated From\":\"Account History\",\"Status\":\"...  2022-01-19 18:48:44   \n",
       "4  {\"Make\":\"Chevrolet\",\"Model\":\"Express 3500\",\"Co...  2022-01-19 18:50:34   \n",
       "\n",
       "  event_platform device_manufacture device_model  Subscription Premium Cancel  \n",
       "0        android            samsung     SM-A716U                            0  \n",
       "1        android            samsung     SM-A716U                            0  \n",
       "2        android            samsung     SM-A716U                            0  \n",
       "3        android            samsung     SM-A716U                            0  \n",
       "4        android            samsung     SM-A716U                            0  "
      ]
     },
     "execution_count": 10,
     "metadata": {},
     "output_type": "execute_result"
    }
   ],
   "source": [
    "print(str(df.shape[0]) +\" rows x \" + str(df.shape[1]) + \" columns\")\n",
    "df.head()"
   ]
  },
  {
   "cell_type": "code",
   "execution_count": 8,
   "id": "e3fbdcd0",
   "metadata": {},
   "outputs": [
    {
     "name": "stdout",
     "output_type": "stream",
     "text": [
      "event_name\n",
      "Account History Transaction Details    1609\n",
      "Account Setup Profile Skip              498\n",
      "Account Setup Skip                      222\n",
      "Add Payment Method Failed               334\n",
      "Add Payment Method Success             1038\n",
      "Add Vehicle Break                       486\n",
      "Add Vehicle Failed                       21\n",
      "Add Vehicle Success                    1923\n",
      "Calculator Used                         120\n",
      "Calculator View                         630\n",
      "Chat Conversation Opened               1485\n",
      "Chat Conversation Started              1202\n",
      "Email Confirmation Success              853\n",
      "Order                                  6116\n",
      "Reset Password Set                        1\n",
      "Sign Out                                595\n",
      "Sign Up Error                            26\n",
      "Sign Up Success                        3329\n",
      "Subscription Premium                    711\n",
      "Subscription Premium Cancel             271\n",
      "Subscription Premium Renew              310\n",
      "Transaction Refund                      102\n",
      "Wallet Opened                          1475\n",
      "Name: event_name, dtype: int64\n"
     ]
    }
   ],
   "source": [
    "print(df.groupby(['event_name'])['event_name'].count())"
   ]
  },
  {
   "cell_type": "code",
   "execution_count": null,
   "id": "968198de",
   "metadata": {},
   "outputs": [],
   "source": []
  }
 ],
 "metadata": {
  "kernelspec": {
   "display_name": "Python 3 (ipykernel)",
   "language": "python",
   "name": "python3"
  },
  "language_info": {
   "codemirror_mode": {
    "name": "ipython",
    "version": 3
   },
   "file_extension": ".py",
   "mimetype": "text/x-python",
   "name": "python",
   "nbconvert_exporter": "python",
   "pygments_lexer": "ipython3",
   "version": "3.9.12"
  }
 },
 "nbformat": 4,
 "nbformat_minor": 5
}
