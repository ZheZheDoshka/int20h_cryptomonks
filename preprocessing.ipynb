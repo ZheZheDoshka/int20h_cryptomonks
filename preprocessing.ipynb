{
 "cells": [
  {
   "cell_type": "code",
   "execution_count": 1,
   "id": "efcf5a72",
   "metadata": {},
   "outputs": [],
   "source": [
    "import pandas as pd\n",
    "import numpy as np\n",
    "\n",
    "import copy\n",
    "\n",
    "import seaborn as sns\n",
    "import matplotlib.pyplot as plt\n",
    "from sklearn.preprocessing import LabelEncoder"
   ]
  },
  {
   "cell_type": "code",
   "execution_count": 2,
   "id": "c9fb0ac9",
   "metadata": {},
   "outputs": [],
   "source": [
    "def createdf(filename): #створення фрейму\n",
    "    df = pd.read_csv(filename)\n",
    "    \n",
    "    df = df.loc[:, ~df.columns.str.contains('^Unnamed')]\n",
    "    df.isnull().any()\n",
    "    return(df)"
   ]
  },
  {
   "cell_type": "code",
   "execution_count": 3,
   "id": "15cb1132",
   "metadata": {},
   "outputs": [],
   "source": [
    "filename = \"csv//int20h-ds-test-dataset.csv\""
   ]
  },
  {
   "cell_type": "code",
   "execution_count": 4,
   "id": "2a341c71",
   "metadata": {},
   "outputs": [],
   "source": [
    "df = createdf(filename)"
   ]
  },
  {
   "cell_type": "code",
   "execution_count": 5,
   "id": "25213a36",
   "metadata": {},
   "outputs": [],
   "source": [
    "df[\"event_created_date\"] = pd.to_datetime(df[\"event_created_date\"])"
   ]
  },
  {
   "cell_type": "code",
   "execution_count": 6,
   "id": "4b4a7851",
   "metadata": {},
   "outputs": [
    {
     "name": "stdout",
     "output_type": "stream",
     "text": [
      "23357 rows x 8 columns\n"
     ]
    },
    {
     "data": {
      "text/html": [
       "<div>\n",
       "<style scoped>\n",
       "    .dataframe tbody tr th:only-of-type {\n",
       "        vertical-align: middle;\n",
       "    }\n",
       "\n",
       "    .dataframe tbody tr th {\n",
       "        vertical-align: top;\n",
       "    }\n",
       "\n",
       "    .dataframe thead th {\n",
       "        text-align: right;\n",
       "    }\n",
       "</style>\n",
       "<table border=\"1\" class=\"dataframe\">\n",
       "  <thead>\n",
       "    <tr style=\"text-align: right;\">\n",
       "      <th></th>\n",
       "      <th>userid</th>\n",
       "      <th>user_state</th>\n",
       "      <th>event_name</th>\n",
       "      <th>event_attributes</th>\n",
       "      <th>event_created_date</th>\n",
       "      <th>event_platform</th>\n",
       "      <th>device_manufacture</th>\n",
       "      <th>device_model</th>\n",
       "    </tr>\n",
       "  </thead>\n",
       "  <tbody>\n",
       "    <tr>\n",
       "      <th>0</th>\n",
       "      <td>c95c777785faec8dd910d019d7278ebe</td>\n",
       "      <td>CA</td>\n",
       "      <td>Add Vehicle Success</td>\n",
       "      <td>{\"Make\":\"Dodge\",\"Model\":\"Caravan\",\"Color\":\"Whi...</td>\n",
       "      <td>2022-01-16 17:03:04</td>\n",
       "      <td>android</td>\n",
       "      <td>samsung</td>\n",
       "      <td>SM-N975U</td>\n",
       "    </tr>\n",
       "    <tr>\n",
       "      <th>1</th>\n",
       "      <td>c95c777785faec8dd910d019d7278ebe</td>\n",
       "      <td>CA</td>\n",
       "      <td>Add Vehicle Break</td>\n",
       "      <td>{}</td>\n",
       "      <td>2022-01-16 17:07:47</td>\n",
       "      <td>android</td>\n",
       "      <td>samsung</td>\n",
       "      <td>SM-N975U</td>\n",
       "    </tr>\n",
       "    <tr>\n",
       "      <th>2</th>\n",
       "      <td>f344be2d9a042b7444f3cc5279e38ef1</td>\n",
       "      <td>FL</td>\n",
       "      <td>Calculator View</td>\n",
       "      <td>{}</td>\n",
       "      <td>2022-01-16 17:16:25</td>\n",
       "      <td>android</td>\n",
       "      <td>samsung</td>\n",
       "      <td>SM-G973U1</td>\n",
       "    </tr>\n",
       "    <tr>\n",
       "      <th>3</th>\n",
       "      <td>c95c777785faec8dd910d019d7278ebe</td>\n",
       "      <td>CA</td>\n",
       "      <td>Add Payment Method Success</td>\n",
       "      <td>{\"Payment Method\":\"Credit\",\"Tokenized Pay\":\"\"}</td>\n",
       "      <td>2022-01-16 17:24:22</td>\n",
       "      <td>android</td>\n",
       "      <td>samsung</td>\n",
       "      <td>SM-N975U</td>\n",
       "    </tr>\n",
       "    <tr>\n",
       "      <th>4</th>\n",
       "      <td>e331ed81422d8fba55520a43a872e701</td>\n",
       "      <td>IL</td>\n",
       "      <td>Sign Up Success</td>\n",
       "      <td>{\"Method\":\"Apple\"}</td>\n",
       "      <td>2022-01-16 17:34:51</td>\n",
       "      <td>ios</td>\n",
       "      <td>Apple</td>\n",
       "      <td>iPhone12,1</td>\n",
       "    </tr>\n",
       "  </tbody>\n",
       "</table>\n",
       "</div>"
      ],
      "text/plain": [
       "                             userid user_state                  event_name  \\\n",
       "0  c95c777785faec8dd910d019d7278ebe         CA         Add Vehicle Success   \n",
       "1  c95c777785faec8dd910d019d7278ebe         CA           Add Vehicle Break   \n",
       "2  f344be2d9a042b7444f3cc5279e38ef1         FL             Calculator View   \n",
       "3  c95c777785faec8dd910d019d7278ebe         CA  Add Payment Method Success   \n",
       "4  e331ed81422d8fba55520a43a872e701         IL             Sign Up Success   \n",
       "\n",
       "                                    event_attributes  event_created_date  \\\n",
       "0  {\"Make\":\"Dodge\",\"Model\":\"Caravan\",\"Color\":\"Whi... 2022-01-16 17:03:04   \n",
       "1                                                 {} 2022-01-16 17:07:47   \n",
       "2                                                 {} 2022-01-16 17:16:25   \n",
       "3     {\"Payment Method\":\"Credit\",\"Tokenized Pay\":\"\"} 2022-01-16 17:24:22   \n",
       "4                                 {\"Method\":\"Apple\"} 2022-01-16 17:34:51   \n",
       "\n",
       "  event_platform device_manufacture device_model  \n",
       "0        android            samsung     SM-N975U  \n",
       "1        android            samsung     SM-N975U  \n",
       "2        android            samsung    SM-G973U1  \n",
       "3        android            samsung     SM-N975U  \n",
       "4            ios              Apple   iPhone12,1  "
      ]
     },
     "execution_count": 6,
     "metadata": {},
     "output_type": "execute_result"
    }
   ],
   "source": [
    "print(str(df.shape[0]) +\" rows x \" + str(df.shape[1]) + \" columns\")\n",
    "df.head()"
   ]
  },
  {
   "cell_type": "code",
   "execution_count": 7,
   "id": "8022d890",
   "metadata": {},
   "outputs": [],
   "source": [
    "#drop users that have not added, renewed or canceled Subscription Premium - they haven't canceled it because they had no sub\n",
    "\n",
    "def remove_excess_data(df):\n",
    "    target_values = ['Subscription Premium Cancel', 'Subscription Premium', 'Subscription Premium Renew']\n",
    "    user_list = df[\"userid\"].unique()\n",
    "    for i in user_list:\n",
    "        df_temp = df[df[\"userid\"]==i]\n",
    "        if target_values[0] in df_temp.values or target_values[1] in df_temp.values or target_values[2] in df_temp.values:\n",
    "            continue\n",
    "        df = df.drop(df_temp.index)\n",
    "    return df"
   ]
  },
  {
   "cell_type": "code",
   "execution_count": 8,
   "id": "89ad6c99",
   "metadata": {},
   "outputs": [],
   "source": [
    "df = remove_excess_data(df)"
   ]
  },
  {
   "cell_type": "code",
   "execution_count": 9,
   "id": "dbc5f218",
   "metadata": {},
   "outputs": [],
   "source": [
    "df = df.sort_values([\"userid\", \"event_created_date\"], ascending=[True, True]).reset_index(drop = True)"
   ]
  },
  {
   "cell_type": "code",
   "execution_count": 10,
   "id": "a813ec4e",
   "metadata": {},
   "outputs": [],
   "source": [
    "#Замінюємо невідомі значення пристроїв з яких виконувалися дії \n",
    "#користувачів для яких відомий пристрій за іншими діями на ці пристрої\n",
    "def fill_in_NaNs(df):\n",
    "    for i in range(len(df)):\n",
    "        if df.loc[i, \"event_platform\"] == \"outofband\":\n",
    "            df_temp = df[df[\"userid\"] == df.iloc[i][\"userid\"]]\n",
    "            for index, row in df_temp.iterrows():\n",
    "                if row[\"event_platform\"] != \"outofband\":\n",
    "                    df.loc[i, \"event_platform\"] = row.at[\"event_platform\"]\n",
    "                    df.loc[i, \"device_manufacture\"] = row.at[\"device_manufacture\"]\n",
    "                    df.loc[i, \"device_model\"] = row.at[\"device_model\"]\n",
    "                    break\n",
    "    return df\n"
   ]
  },
  {
   "cell_type": "code",
   "execution_count": 11,
   "id": "b0ff5beb",
   "metadata": {
    "scrolled": true
   },
   "outputs": [
    {
     "data": {
      "text/html": [
       "<div>\n",
       "<style scoped>\n",
       "    .dataframe tbody tr th:only-of-type {\n",
       "        vertical-align: middle;\n",
       "    }\n",
       "\n",
       "    .dataframe tbody tr th {\n",
       "        vertical-align: top;\n",
       "    }\n",
       "\n",
       "    .dataframe thead th {\n",
       "        text-align: right;\n",
       "    }\n",
       "</style>\n",
       "<table border=\"1\" class=\"dataframe\">\n",
       "  <thead>\n",
       "    <tr style=\"text-align: right;\">\n",
       "      <th></th>\n",
       "      <th>userid</th>\n",
       "      <th>user_state</th>\n",
       "      <th>event_name</th>\n",
       "      <th>event_attributes</th>\n",
       "      <th>event_created_date</th>\n",
       "      <th>event_platform</th>\n",
       "      <th>device_manufacture</th>\n",
       "      <th>device_model</th>\n",
       "    </tr>\n",
       "  </thead>\n",
       "  <tbody>\n",
       "    <tr>\n",
       "      <th>74</th>\n",
       "      <td>03e0c91e1163e8b80e74e586a3e666d6</td>\n",
       "      <td>MD</td>\n",
       "      <td>Subscription Premium Cancel</td>\n",
       "      <td>{}</td>\n",
       "      <td>2022-02-24 19:45:02</td>\n",
       "      <td>ios</td>\n",
       "      <td>Apple</td>\n",
       "      <td>iPhone12,1</td>\n",
       "    </tr>\n",
       "    <tr>\n",
       "      <th>118</th>\n",
       "      <td>051a5f8bce75a601be987980a09d4187</td>\n",
       "      <td>VA</td>\n",
       "      <td>Subscription Premium Cancel</td>\n",
       "      <td>{}</td>\n",
       "      <td>2022-04-06 10:12:37</td>\n",
       "      <td>ios</td>\n",
       "      <td>Apple</td>\n",
       "      <td>iPhone14,2</td>\n",
       "    </tr>\n",
       "    <tr>\n",
       "      <th>127</th>\n",
       "      <td>05630c0e889fe7371fc74d7ae01f491f</td>\n",
       "      <td>FL</td>\n",
       "      <td>Subscription Premium Cancel</td>\n",
       "      <td>{}</td>\n",
       "      <td>2022-03-19 18:16:37</td>\n",
       "      <td>ios</td>\n",
       "      <td>Apple</td>\n",
       "      <td>iPhone13,2</td>\n",
       "    </tr>\n",
       "    <tr>\n",
       "      <th>137</th>\n",
       "      <td>060153cf7a5844d9aed735d408b35f97</td>\n",
       "      <td>TX</td>\n",
       "      <td>Subscription Premium Cancel</td>\n",
       "      <td>{}</td>\n",
       "      <td>2022-02-11 15:06:11</td>\n",
       "      <td>ios</td>\n",
       "      <td>Apple</td>\n",
       "      <td>iPhone14,2</td>\n",
       "    </tr>\n",
       "    <tr>\n",
       "      <th>157</th>\n",
       "      <td>078ae59f1ae79df514e846e5e51eca8b</td>\n",
       "      <td>CA</td>\n",
       "      <td>Subscription Premium Cancel</td>\n",
       "      <td>{}</td>\n",
       "      <td>2022-04-09 12:43:36</td>\n",
       "      <td>ios</td>\n",
       "      <td>Apple</td>\n",
       "      <td>iPhone12,1</td>\n",
       "    </tr>\n",
       "  </tbody>\n",
       "</table>\n",
       "</div>"
      ],
      "text/plain": [
       "                               userid user_state                   event_name  \\\n",
       "74   03e0c91e1163e8b80e74e586a3e666d6         MD  Subscription Premium Cancel   \n",
       "118  051a5f8bce75a601be987980a09d4187         VA  Subscription Premium Cancel   \n",
       "127  05630c0e889fe7371fc74d7ae01f491f         FL  Subscription Premium Cancel   \n",
       "137  060153cf7a5844d9aed735d408b35f97         TX  Subscription Premium Cancel   \n",
       "157  078ae59f1ae79df514e846e5e51eca8b         CA  Subscription Premium Cancel   \n",
       "\n",
       "    event_attributes  event_created_date event_platform device_manufacture  \\\n",
       "74                {} 2022-02-24 19:45:02            ios              Apple   \n",
       "118               {} 2022-04-06 10:12:37            ios              Apple   \n",
       "127               {} 2022-03-19 18:16:37            ios              Apple   \n",
       "137               {} 2022-02-11 15:06:11            ios              Apple   \n",
       "157               {} 2022-04-09 12:43:36            ios              Apple   \n",
       "\n",
       "    device_model  \n",
       "74    iPhone12,1  \n",
       "118   iPhone14,2  \n",
       "127   iPhone13,2  \n",
       "137   iPhone14,2  \n",
       "157   iPhone12,1  "
      ]
     },
     "execution_count": 11,
     "metadata": {},
     "output_type": "execute_result"
    }
   ],
   "source": [
    "df = fill_in_NaNs(df)\n",
    "df_canceled = df[df[\"event_name\"] == 'Subscription Premium Cancel']\n",
    "#print(str(df_canceled.shape[0]) +\" rows x \" + str(df_canceled.shape[1]) + \" columns\")\n",
    "canceled_list = df_canceled[\"userid\"].unique()\n",
    "df_canceled.head()"
   ]
  },
  {
   "cell_type": "code",
   "execution_count": 12,
   "id": "1246af33",
   "metadata": {},
   "outputs": [],
   "source": [
    "def event_occured_per_user(row):\n",
    "    if row['userid'] in event_list:\n",
    "        return 1\n",
    "    else:\n",
    "        return 0"
   ]
  },
  {
   "cell_type": "code",
   "execution_count": 13,
   "id": "3b16a903",
   "metadata": {},
   "outputs": [],
   "source": [
    "def event_occured(row):\n",
    "    if row[\"event_name\"] == event:\n",
    "        return 1\n",
    "    else:\n",
    "        return 0"
   ]
  },
  {
   "cell_type": "code",
   "execution_count": 14,
   "id": "64d451f0",
   "metadata": {},
   "outputs": [],
   "source": [
    "event = 'Subscription Premium Cancel'\n",
    "df_temp = df[df[\"event_name\"] == event]\n",
    "event_list = df_temp[\"userid\"].unique()\n",
    "df[event] = df.apply(event_occured_per_user, axis=1)"
   ]
  },
  {
   "cell_type": "code",
   "execution_count": null,
   "id": "3e3d6999",
   "metadata": {},
   "outputs": [],
   "source": []
  },
  {
   "cell_type": "code",
   "execution_count": 15,
   "id": "240182f2",
   "metadata": {},
   "outputs": [],
   "source": [
    "df.to_csv(\"csv//sorted_filled_test.csv\")"
   ]
  },
  {
   "cell_type": "code",
   "execution_count": 16,
   "id": "f956ee35",
   "metadata": {},
   "outputs": [],
   "source": [
    "df = createdf(\"csv//sorted_filled_test.csv\")"
   ]
  },
  {
   "cell_type": "code",
   "execution_count": null,
   "id": "9a8e4f90",
   "metadata": {},
   "outputs": [],
   "source": []
  },
  {
   "cell_type": "code",
   "execution_count": 17,
   "id": "f76d65ce",
   "metadata": {},
   "outputs": [],
   "source": [
    "#виводимо з значення дати значення місяця, квартал, день тижня та час події в хвилинах\n",
    "def event_created_date_transform(df):\n",
    "    date = pd.DataFrame({\"time\" : []})\n",
    "    date[\"time\"] = pd.to_datetime(df[\"event_created_date\"])\n",
    "    date[\"month\"] = date[\"time\"].dt.month\n",
    "    date[\"quarter\"] = date[\"time\"].dt.quarter\n",
    "    date[\"day_week\"] = date[\"time\"].dt.dayofweek\n",
    "    #date[\"time\"] = (date[\"time\"].dt.minute.to_numpy(dtype=np.int32) + date[\"time\"].dt.hour.to_numpy(dtype=np.int32)*60)/(60*24) #minute of the day\n",
    "    date[\"time\"] = date[\"time\"].dt.hour.to_numpy(dtype=np.int32) #hour of the day\n",
    "    return date"
   ]
  },
  {
   "cell_type": "code",
   "execution_count": 18,
   "id": "48ceb538",
   "metadata": {},
   "outputs": [],
   "source": [
    "date = event_created_date_transform(df)"
   ]
  },
  {
   "cell_type": "code",
   "execution_count": 19,
   "id": "ad3671de",
   "metadata": {},
   "outputs": [],
   "source": [
    "date.to_csv(\"csv//extracted_date_data.csv\")"
   ]
  },
  {
   "cell_type": "code",
   "execution_count": 20,
   "id": "6ef768e6",
   "metadata": {},
   "outputs": [],
   "source": [
    "canceled_list = df_canceled[\"userid\"].unique()"
   ]
  },
  {
   "cell_type": "code",
   "execution_count": 21,
   "id": "e02ddac0",
   "metadata": {},
   "outputs": [],
   "source": [
    "df_time = copy.deepcopy(df)"
   ]
  },
  {
   "cell_type": "code",
   "execution_count": 22,
   "id": "f3178894",
   "metadata": {},
   "outputs": [],
   "source": [
    "event = 'Subscription Premium Cancel'\n",
    "df_time[event] = df_time.apply(event_occured, axis=1)"
   ]
  },
  {
   "cell_type": "code",
   "execution_count": 23,
   "id": "b8e1123d",
   "metadata": {},
   "outputs": [],
   "source": [
    "df_time = df_time.drop(['userid', 'event_name', 'event_attributes', 'event_created_date', \"user_state\", \"event_platform\",\"device_manufacture\", \"device_model\"], axis=1)"
   ]
  },
  {
   "cell_type": "code",
   "execution_count": 24,
   "id": "ed6c704d",
   "metadata": {},
   "outputs": [],
   "source": [
    "df_time = pd.concat([df_time, date], axis=1)"
   ]
  },
  {
   "cell_type": "code",
   "execution_count": 25,
   "id": "d01ff3c6",
   "metadata": {},
   "outputs": [],
   "source": [
    "df_time.to_csv(\"csv//event_and_date_data.csv\")"
   ]
  },
  {
   "cell_type": "code",
   "execution_count": 26,
   "id": "b81de8fe",
   "metadata": {},
   "outputs": [],
   "source": [
    "df_event_occured = copy.deepcopy(df)\n",
    "events = df[\"event_name\"].unique()"
   ]
  },
  {
   "cell_type": "code",
   "execution_count": 27,
   "id": "6cc3a574",
   "metadata": {},
   "outputs": [],
   "source": [
    "for e in events:\n",
    "    event = e\n",
    "    df_temp = df_event_occured[df_event_occured[\"event_name\"] == event]\n",
    "    event_list = df_temp[\"userid\"].unique()\n",
    "    df_event_occured[event] = df_event_occured.apply(event_occured_per_user, axis=1)"
   ]
  },
  {
   "cell_type": "code",
   "execution_count": 28,
   "id": "8ed05717",
   "metadata": {},
   "outputs": [],
   "source": [
    "df_event_occured = df_event_occured.drop(['event_name', 'event_attributes', 'event_created_date', \"user_state\", \"event_platform\",\"device_manufacture\", \"device_model\"], axis=1)"
   ]
  },
  {
   "cell_type": "code",
   "execution_count": 29,
   "id": "9743c3c9",
   "metadata": {},
   "outputs": [],
   "source": [
    "df_event_occured = df_event_occured.drop_duplicates(subset = [\"userid\"])"
   ]
  },
  {
   "cell_type": "code",
   "execution_count": 30,
   "id": "713a4274",
   "metadata": {},
   "outputs": [],
   "source": [
    "\n",
    "#fig, ax = plt.subplots(figsize=(15,15))    \n",
    "#dataplot = sns.heatmap(df_event_occured.drop([\"userid\"], axis = 1).corr(), cmap=\"RdYlBu\", annot=True, ax = ax)\n",
    "#plt.show()"
   ]
  },
  {
   "cell_type": "code",
   "execution_count": 31,
   "id": "e9bbe6b3",
   "metadata": {},
   "outputs": [],
   "source": [
    "df_event_occured.to_csv(\"csv//event_occured_per_user.csv\")"
   ]
  },
  {
   "cell_type": "code",
   "execution_count": 32,
   "id": "3f83c17d",
   "metadata": {},
   "outputs": [],
   "source": [
    "df2 = copy.deepcopy(df)"
   ]
  },
  {
   "cell_type": "code",
   "execution_count": 33,
   "id": "fcf6231c",
   "metadata": {},
   "outputs": [],
   "source": [
    "label_encoder = LabelEncoder()\n",
    "df_static_data = copy.deepcopy(df2.drop(['userid', 'event_name', 'event_attributes', 'event_created_date'], axis=1))\n"
   ]
  },
  {
   "cell_type": "code",
   "execution_count": 34,
   "id": "52a874b6",
   "metadata": {},
   "outputs": [],
   "source": [
    "categories = [\"user_state\", \"event_platform\",\"device_manufacture\", \"device_model\"]\n",
    "for category in categories:\n",
    "    #print(df_static_data[category].unique())\n",
    "    df_static_data[category]=label_encoder.fit_transform(df_static_data[category])\n",
    "    #print(df_static_data[category].unique())\n"
   ]
  },
  {
   "cell_type": "code",
   "execution_count": 35,
   "id": "06e53a0d",
   "metadata": {},
   "outputs": [],
   "source": [
    "#dataplot = sns.heatmap(df_static_data.corr(), cmap=\"RdYlBu\", annot=True)\n",
    "#plt.show()"
   ]
  },
  {
   "cell_type": "code",
   "execution_count": 36,
   "id": "2bdb34de",
   "metadata": {},
   "outputs": [],
   "source": [
    "df_static_data.to_csv(\"csv//static_data.csv\")"
   ]
  },
  {
   "cell_type": "code",
   "execution_count": null,
   "id": "8ef77954",
   "metadata": {},
   "outputs": [],
   "source": []
  },
  {
   "cell_type": "code",
   "execution_count": null,
   "id": "64a601fe",
   "metadata": {},
   "outputs": [],
   "source": []
  }
 ],
 "metadata": {
  "kernelspec": {
   "display_name": "Python 3 (ipykernel)",
   "language": "python",
   "name": "python3"
  },
  "language_info": {
   "codemirror_mode": {
    "name": "ipython",
    "version": 3
   },
   "file_extension": ".py",
   "mimetype": "text/x-python",
   "name": "python",
   "nbconvert_exporter": "python",
   "pygments_lexer": "ipython3",
   "version": "3.9.12"
  }
 },
 "nbformat": 4,
 "nbformat_minor": 5
}
