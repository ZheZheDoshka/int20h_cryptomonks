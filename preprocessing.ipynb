{
 "cells": [
  {
   "cell_type": "code",
   "execution_count": 1,
   "id": "efcf5a72",
   "metadata": {},
   "outputs": [],
   "source": [
    "import pandas as pd\n",
    "import numpy as np\n",
    "\n",
    "import copy\n",
    "\n",
    "import seaborn as sns\n",
    "import matplotlib.pyplot as plt\n",
    "from sklearn.preprocessing import LabelEncoder\n",
    "\n",
    "import math"
   ]
  },
  {
   "cell_type": "code",
   "execution_count": 2,
   "id": "c9fb0ac9",
   "metadata": {},
   "outputs": [],
   "source": [
    "def createdf(filename): #створення фрейму\n",
    "    df = pd.read_csv(filename)\n",
    "    \n",
    "    df = df.loc[:, ~df.columns.str.contains('^Unnamed')]\n",
    "    df.isnull().any()\n",
    "    return(df)"
   ]
  },
  {
   "cell_type": "code",
   "execution_count": 3,
   "id": "15cb1132",
   "metadata": {},
   "outputs": [],
   "source": [
    "filename = \"csv//int20h-ds-test-dataset.csv\""
   ]
  },
  {
   "cell_type": "code",
   "execution_count": 4,
   "id": "2a341c71",
   "metadata": {},
   "outputs": [],
   "source": [
    "df = createdf(filename)"
   ]
  },
  {
   "cell_type": "code",
   "execution_count": 5,
   "id": "25213a36",
   "metadata": {},
   "outputs": [],
   "source": [
    "df[\"event_created_date\"] = pd.to_datetime(df[\"event_created_date\"])"
   ]
  },
  {
   "cell_type": "code",
   "execution_count": 6,
   "id": "4b4a7851",
   "metadata": {},
   "outputs": [
    {
     "name": "stdout",
     "output_type": "stream",
     "text": [
      "23357 rows x 8 columns\n"
     ]
    },
    {
     "data": {
      "text/html": [
       "<div>\n",
       "<style scoped>\n",
       "    .dataframe tbody tr th:only-of-type {\n",
       "        vertical-align: middle;\n",
       "    }\n",
       "\n",
       "    .dataframe tbody tr th {\n",
       "        vertical-align: top;\n",
       "    }\n",
       "\n",
       "    .dataframe thead th {\n",
       "        text-align: right;\n",
       "    }\n",
       "</style>\n",
       "<table border=\"1\" class=\"dataframe\">\n",
       "  <thead>\n",
       "    <tr style=\"text-align: right;\">\n",
       "      <th></th>\n",
       "      <th>userid</th>\n",
       "      <th>user_state</th>\n",
       "      <th>event_name</th>\n",
       "      <th>event_attributes</th>\n",
       "      <th>event_created_date</th>\n",
       "      <th>event_platform</th>\n",
       "      <th>device_manufacture</th>\n",
       "      <th>device_model</th>\n",
       "    </tr>\n",
       "  </thead>\n",
       "  <tbody>\n",
       "    <tr>\n",
       "      <th>0</th>\n",
       "      <td>c95c777785faec8dd910d019d7278ebe</td>\n",
       "      <td>CA</td>\n",
       "      <td>Add Vehicle Success</td>\n",
       "      <td>{\"Make\":\"Dodge\",\"Model\":\"Caravan\",\"Color\":\"Whi...</td>\n",
       "      <td>2022-01-16 17:03:04</td>\n",
       "      <td>android</td>\n",
       "      <td>samsung</td>\n",
       "      <td>SM-N975U</td>\n",
       "    </tr>\n",
       "    <tr>\n",
       "      <th>1</th>\n",
       "      <td>c95c777785faec8dd910d019d7278ebe</td>\n",
       "      <td>CA</td>\n",
       "      <td>Add Vehicle Break</td>\n",
       "      <td>{}</td>\n",
       "      <td>2022-01-16 17:07:47</td>\n",
       "      <td>android</td>\n",
       "      <td>samsung</td>\n",
       "      <td>SM-N975U</td>\n",
       "    </tr>\n",
       "    <tr>\n",
       "      <th>2</th>\n",
       "      <td>f344be2d9a042b7444f3cc5279e38ef1</td>\n",
       "      <td>FL</td>\n",
       "      <td>Calculator View</td>\n",
       "      <td>{}</td>\n",
       "      <td>2022-01-16 17:16:25</td>\n",
       "      <td>android</td>\n",
       "      <td>samsung</td>\n",
       "      <td>SM-G973U1</td>\n",
       "    </tr>\n",
       "    <tr>\n",
       "      <th>3</th>\n",
       "      <td>c95c777785faec8dd910d019d7278ebe</td>\n",
       "      <td>CA</td>\n",
       "      <td>Add Payment Method Success</td>\n",
       "      <td>{\"Payment Method\":\"Credit\",\"Tokenized Pay\":\"\"}</td>\n",
       "      <td>2022-01-16 17:24:22</td>\n",
       "      <td>android</td>\n",
       "      <td>samsung</td>\n",
       "      <td>SM-N975U</td>\n",
       "    </tr>\n",
       "    <tr>\n",
       "      <th>4</th>\n",
       "      <td>e331ed81422d8fba55520a43a872e701</td>\n",
       "      <td>IL</td>\n",
       "      <td>Sign Up Success</td>\n",
       "      <td>{\"Method\":\"Apple\"}</td>\n",
       "      <td>2022-01-16 17:34:51</td>\n",
       "      <td>ios</td>\n",
       "      <td>Apple</td>\n",
       "      <td>iPhone12,1</td>\n",
       "    </tr>\n",
       "  </tbody>\n",
       "</table>\n",
       "</div>"
      ],
      "text/plain": [
       "                             userid user_state                  event_name  \\\n",
       "0  c95c777785faec8dd910d019d7278ebe         CA         Add Vehicle Success   \n",
       "1  c95c777785faec8dd910d019d7278ebe         CA           Add Vehicle Break   \n",
       "2  f344be2d9a042b7444f3cc5279e38ef1         FL             Calculator View   \n",
       "3  c95c777785faec8dd910d019d7278ebe         CA  Add Payment Method Success   \n",
       "4  e331ed81422d8fba55520a43a872e701         IL             Sign Up Success   \n",
       "\n",
       "                                    event_attributes  event_created_date  \\\n",
       "0  {\"Make\":\"Dodge\",\"Model\":\"Caravan\",\"Color\":\"Whi... 2022-01-16 17:03:04   \n",
       "1                                                 {} 2022-01-16 17:07:47   \n",
       "2                                                 {} 2022-01-16 17:16:25   \n",
       "3     {\"Payment Method\":\"Credit\",\"Tokenized Pay\":\"\"} 2022-01-16 17:24:22   \n",
       "4                                 {\"Method\":\"Apple\"} 2022-01-16 17:34:51   \n",
       "\n",
       "  event_platform device_manufacture device_model  \n",
       "0        android            samsung     SM-N975U  \n",
       "1        android            samsung     SM-N975U  \n",
       "2        android            samsung    SM-G973U1  \n",
       "3        android            samsung     SM-N975U  \n",
       "4            ios              Apple   iPhone12,1  "
      ]
     },
     "execution_count": 6,
     "metadata": {},
     "output_type": "execute_result"
    }
   ],
   "source": [
    "print(str(df.shape[0]) +\" rows x \" + str(df.shape[1]) + \" columns\")\n",
    "df.head()"
   ]
  },
  {
   "cell_type": "code",
   "execution_count": 7,
   "id": "8022d890",
   "metadata": {},
   "outputs": [],
   "source": [
    "#drop users that have not added, renewed or canceled Subscription Premium - they haven't canceled it because they had no sub\n",
    "\n",
    "def remove_excess_data(df):\n",
    "    target_values = ['Subscription Premium Cancel', 'Subscription Premium', 'Subscription Premium Renew', \"Order\"]\n",
    "    sign_up_value = \"Sign Up Success\"\n",
    "    user_list = df[\"userid\"].unique()\n",
    "    for i in user_list:\n",
    "        df_temp = df[df[\"userid\"]==i]\n",
    "        if target_values[0] in df_temp.values or target_values[1] in df_temp.values:\n",
    "            continue\n",
    "        elif target_values[2] in df_temp.values or  target_values[3] in df_temp.values:\n",
    "            continue\n",
    "        elif (sign_up_value not in df_temp.values):\n",
    "            continue\n",
    "        df = df.drop(df_temp.index)\n",
    "    return df"
   ]
  },
  {
   "cell_type": "code",
   "execution_count": 8,
   "id": "89ad6c99",
   "metadata": {},
   "outputs": [],
   "source": [
    "df = remove_excess_data(df)"
   ]
  },
  {
   "cell_type": "code",
   "execution_count": 9,
   "id": "dbc5f218",
   "metadata": {},
   "outputs": [],
   "source": [
    "df = df.sort_values([\"userid\", \"event_created_date\"], ascending=[True, True]).reset_index(drop = True)"
   ]
  },
  {
   "cell_type": "code",
   "execution_count": 10,
   "id": "a813ec4e",
   "metadata": {},
   "outputs": [],
   "source": [
    "#Замінюємо невідомі значення пристроїв з яких виконувалися дії \n",
    "#користувачів для яких відомий пристрій за іншими діями на ці пристрої\n",
    "def fill_in_NaNs(df):\n",
    "    \n",
    "    for i in range(len(df)):\n",
    "        if df.loc[i, \"event_platform\"] == \"outofband\":\n",
    "            df_temp = df[df[\"userid\"] == df.iloc[i][\"userid\"]]\n",
    "            for index, row in df_temp.iterrows():\n",
    "                if row[\"event_platform\"] != \"outofband\":\n",
    "                    df.loc[i, \"event_platform\"] = row.at[\"event_platform\"]\n",
    "                    df.loc[i, \"device_manufacture\"] = row.at[\"device_manufacture\"]\n",
    "                    df.loc[i, \"device_model\"] = row.at[\"device_model\"]\n",
    "                    break\n",
    "                    \n",
    "    df_temp = df[df[\"user_state\"].apply(lambda x: isinstance(x, float))]\n",
    "    df = df.drop(df_temp.index).reset_index(drop = True)\n",
    "    #    for index, row in df_temp.iterrows():\n",
    "    #        if row[\"user_state\"] != np.nan:\n",
    "    #            temp_state = row[\"user_state\"]\n",
    "    #            break\n",
    "    #        df = df.drop(df_temp.index)\n",
    "    #    df[df[\"userid\"] == user][\"user_state\"] = temp_state\n",
    "    \n",
    "    #states = (df[\"user_state\"].unique()) #nan crutch\n",
    "    #states = states[~numpy.isnan(states)]\n",
    "    #for i in range(len(df)):\n",
    "    #    if isinstance(df.loc[i, \"user_state\"], float):\n",
    "    #        df_temp = df[df[\"userid\"] == df.iloc[i][\"userid\"]]\n",
    "    #        for index, row in df_temp.iterrows():\n",
    "    #            if not isinstance(row[\"user_state\"], float):\n",
    "    #                df.loc[i, \"user_state\"] = row.at[\"user_state\"]\n",
    "    #                break\n",
    "    #            i = i-len(df_temp)\n",
    "    #            df = df.drop(df_temp.index).reset_index(drop = True)\n",
    "                \n",
    "                \n",
    "    \n",
    "    return df\n"
   ]
  },
  {
   "cell_type": "code",
   "execution_count": 11,
   "id": "b0ff5beb",
   "metadata": {
    "scrolled": false
   },
   "outputs": [
    {
     "data": {
      "text/html": [
       "<div>\n",
       "<style scoped>\n",
       "    .dataframe tbody tr th:only-of-type {\n",
       "        vertical-align: middle;\n",
       "    }\n",
       "\n",
       "    .dataframe tbody tr th {\n",
       "        vertical-align: top;\n",
       "    }\n",
       "\n",
       "    .dataframe thead th {\n",
       "        text-align: right;\n",
       "    }\n",
       "</style>\n",
       "<table border=\"1\" class=\"dataframe\">\n",
       "  <thead>\n",
       "    <tr style=\"text-align: right;\">\n",
       "      <th></th>\n",
       "      <th>userid</th>\n",
       "      <th>user_state</th>\n",
       "      <th>event_name</th>\n",
       "      <th>event_attributes</th>\n",
       "      <th>event_created_date</th>\n",
       "      <th>event_platform</th>\n",
       "      <th>device_manufacture</th>\n",
       "      <th>device_model</th>\n",
       "    </tr>\n",
       "  </thead>\n",
       "  <tbody>\n",
       "    <tr>\n",
       "      <th>75</th>\n",
       "      <td>03e0c91e1163e8b80e74e586a3e666d6</td>\n",
       "      <td>MD</td>\n",
       "      <td>Subscription Premium Cancel</td>\n",
       "      <td>{}</td>\n",
       "      <td>2022-02-24 19:45:02</td>\n",
       "      <td>ios</td>\n",
       "      <td>Apple</td>\n",
       "      <td>iPhone12,1</td>\n",
       "    </tr>\n",
       "    <tr>\n",
       "      <th>171</th>\n",
       "      <td>051a5f8bce75a601be987980a09d4187</td>\n",
       "      <td>VA</td>\n",
       "      <td>Subscription Premium Cancel</td>\n",
       "      <td>{}</td>\n",
       "      <td>2022-04-06 10:12:37</td>\n",
       "      <td>ios</td>\n",
       "      <td>Apple</td>\n",
       "      <td>iPhone14,2</td>\n",
       "    </tr>\n",
       "    <tr>\n",
       "      <th>180</th>\n",
       "      <td>05630c0e889fe7371fc74d7ae01f491f</td>\n",
       "      <td>FL</td>\n",
       "      <td>Subscription Premium Cancel</td>\n",
       "      <td>{}</td>\n",
       "      <td>2022-03-19 18:16:37</td>\n",
       "      <td>ios</td>\n",
       "      <td>Apple</td>\n",
       "      <td>iPhone13,2</td>\n",
       "    </tr>\n",
       "    <tr>\n",
       "      <th>195</th>\n",
       "      <td>060153cf7a5844d9aed735d408b35f97</td>\n",
       "      <td>TX</td>\n",
       "      <td>Subscription Premium Cancel</td>\n",
       "      <td>{}</td>\n",
       "      <td>2022-02-11 15:06:11</td>\n",
       "      <td>ios</td>\n",
       "      <td>Apple</td>\n",
       "      <td>iPhone14,2</td>\n",
       "    </tr>\n",
       "    <tr>\n",
       "      <th>215</th>\n",
       "      <td>078ae59f1ae79df514e846e5e51eca8b</td>\n",
       "      <td>CA</td>\n",
       "      <td>Subscription Premium Cancel</td>\n",
       "      <td>{}</td>\n",
       "      <td>2022-04-09 12:43:36</td>\n",
       "      <td>ios</td>\n",
       "      <td>Apple</td>\n",
       "      <td>iPhone12,1</td>\n",
       "    </tr>\n",
       "  </tbody>\n",
       "</table>\n",
       "</div>"
      ],
      "text/plain": [
       "                               userid user_state                   event_name  \\\n",
       "75   03e0c91e1163e8b80e74e586a3e666d6         MD  Subscription Premium Cancel   \n",
       "171  051a5f8bce75a601be987980a09d4187         VA  Subscription Premium Cancel   \n",
       "180  05630c0e889fe7371fc74d7ae01f491f         FL  Subscription Premium Cancel   \n",
       "195  060153cf7a5844d9aed735d408b35f97         TX  Subscription Premium Cancel   \n",
       "215  078ae59f1ae79df514e846e5e51eca8b         CA  Subscription Premium Cancel   \n",
       "\n",
       "    event_attributes  event_created_date event_platform device_manufacture  \\\n",
       "75                {} 2022-02-24 19:45:02            ios              Apple   \n",
       "171               {} 2022-04-06 10:12:37            ios              Apple   \n",
       "180               {} 2022-03-19 18:16:37            ios              Apple   \n",
       "195               {} 2022-02-11 15:06:11            ios              Apple   \n",
       "215               {} 2022-04-09 12:43:36            ios              Apple   \n",
       "\n",
       "    device_model  \n",
       "75    iPhone12,1  \n",
       "171   iPhone14,2  \n",
       "180   iPhone13,2  \n",
       "195   iPhone14,2  \n",
       "215   iPhone12,1  "
      ]
     },
     "execution_count": 11,
     "metadata": {},
     "output_type": "execute_result"
    }
   ],
   "source": [
    "df = fill_in_NaNs(df).reset_index(drop = True)\n",
    "df_canceled = df[df[\"event_name\"] == 'Subscription Premium Cancel']\n",
    "#print(str(df_canceled.shape[0]) +\" rows x \" + str(df_canceled.shape[1]) + \" columns\")\n",
    "canceled_list = df_canceled[\"userid\"].unique()\n",
    "df_canceled.head()"
   ]
  },
  {
   "cell_type": "code",
   "execution_count": null,
   "id": "966f0b5f",
   "metadata": {},
   "outputs": [],
   "source": []
  },
  {
   "cell_type": "code",
   "execution_count": 12,
   "id": "1246af33",
   "metadata": {},
   "outputs": [],
   "source": [
    "def event_occured_per_user(row):\n",
    "    if row['userid'] in event_list:\n",
    "        return 1\n",
    "    else:\n",
    "        return 0"
   ]
  },
  {
   "cell_type": "code",
   "execution_count": 13,
   "id": "3b16a903",
   "metadata": {},
   "outputs": [],
   "source": [
    "def event_occured(row):\n",
    "    if row[\"event_name\"] == event:\n",
    "        return 1\n",
    "    else:\n",
    "        return 0"
   ]
  },
  {
   "cell_type": "code",
   "execution_count": 14,
   "id": "64d451f0",
   "metadata": {},
   "outputs": [],
   "source": [
    "event = 'Subscription Premium Cancel'\n",
    "df_temp = df[df[\"event_name\"] == event]\n",
    "event_list = df_temp[\"userid\"].unique()\n",
    "df[event] = df.apply(event_occured_per_user, axis=1)"
   ]
  },
  {
   "cell_type": "code",
   "execution_count": null,
   "id": "3e3d6999",
   "metadata": {},
   "outputs": [],
   "source": []
  },
  {
   "cell_type": "code",
   "execution_count": 15,
   "id": "240182f2",
   "metadata": {},
   "outputs": [],
   "source": [
    "df.to_csv(\"csv//sorted_filled_test.csv\")"
   ]
  },
  {
   "cell_type": "code",
   "execution_count": 16,
   "id": "f956ee35",
   "metadata": {},
   "outputs": [],
   "source": [
    "df = createdf(\"csv//sorted_filled_test.csv\")"
   ]
  },
  {
   "cell_type": "code",
   "execution_count": null,
   "id": "9a8e4f90",
   "metadata": {},
   "outputs": [],
   "source": []
  },
  {
   "cell_type": "code",
   "execution_count": 17,
   "id": "f76d65ce",
   "metadata": {},
   "outputs": [],
   "source": [
    "#виводимо з значення дати значення місяця, квартал, день тижня та час події в хвилинах\n",
    "def event_created_date_transform(df):\n",
    "    date = pd.DataFrame({\"time\" : []})\n",
    "    date[\"time\"] = pd.to_datetime(df[\"event_created_date\"])\n",
    "    date[\"month\"] = date[\"time\"].dt.month\n",
    "    date[\"quarter\"] = date[\"time\"].dt.quarter\n",
    "    date[\"day_week\"] = date[\"time\"].dt.dayofweek\n",
    "    #date[\"time\"] = (date[\"time\"].dt.minute.to_numpy(dtype=np.int32) + date[\"time\"].dt.hour.to_numpy(dtype=np.int32)*60)/(60*24) #minute of the day\n",
    "    date[\"time\"] = date[\"time\"].dt.hour.to_numpy(dtype=np.int32) #hour of the day\n",
    "    return date"
   ]
  },
  {
   "cell_type": "code",
   "execution_count": 18,
   "id": "48ceb538",
   "metadata": {},
   "outputs": [],
   "source": [
    "date = event_created_date_transform(df)"
   ]
  },
  {
   "cell_type": "code",
   "execution_count": 19,
   "id": "ad3671de",
   "metadata": {},
   "outputs": [],
   "source": [
    "date.to_csv(\"csv//extracted_date_data.csv\")"
   ]
  },
  {
   "cell_type": "code",
   "execution_count": 20,
   "id": "6ef768e6",
   "metadata": {},
   "outputs": [],
   "source": [
    "df_canceled = df[df[\"event_name\"] == 'Subscription Premium Cancel']\n",
    "canceled_list = df_canceled[\"userid\"].unique()"
   ]
  },
  {
   "cell_type": "code",
   "execution_count": 21,
   "id": "e02ddac0",
   "metadata": {},
   "outputs": [],
   "source": [
    "df_time = copy.deepcopy(df)"
   ]
  },
  {
   "cell_type": "code",
   "execution_count": 22,
   "id": "f3178894",
   "metadata": {},
   "outputs": [],
   "source": [
    "event = 'Subscription Premium Cancel'\n",
    "df_time[event] = df_time.apply(event_occured, axis=1)"
   ]
  },
  {
   "cell_type": "code",
   "execution_count": 23,
   "id": "b8e1123d",
   "metadata": {},
   "outputs": [],
   "source": [
    "df_time = df_time.drop(['userid', 'event_name', 'event_attributes',\n",
    "                        'event_created_date', \"user_state\", \"event_platform\",\"device_manufacture\", \"device_model\"], axis=1)"
   ]
  },
  {
   "cell_type": "code",
   "execution_count": 24,
   "id": "ed6c704d",
   "metadata": {},
   "outputs": [],
   "source": [
    "df_time = pd.concat([df_time, date], axis=1)"
   ]
  },
  {
   "cell_type": "code",
   "execution_count": 25,
   "id": "d01ff3c6",
   "metadata": {},
   "outputs": [],
   "source": [
    "df_time.to_csv(\"csv//event_and_date_data.csv\")"
   ]
  },
  {
   "cell_type": "code",
   "execution_count": 26,
   "id": "b81de8fe",
   "metadata": {},
   "outputs": [],
   "source": [
    "df_event_occured = copy.deepcopy(df)\n",
    "events = df[\"event_name\"].unique()"
   ]
  },
  {
   "cell_type": "code",
   "execution_count": 27,
   "id": "6cc3a574",
   "metadata": {},
   "outputs": [],
   "source": [
    "for e in events:\n",
    "    event = e\n",
    "    df_temp = df_event_occured[df_event_occured[\"event_name\"] == event]\n",
    "    event_list = df_temp[\"userid\"].unique()\n",
    "    df_event_occured[event] = df_event_occured.apply(event_occured_per_user, axis=1)"
   ]
  },
  {
   "cell_type": "code",
   "execution_count": 28,
   "id": "8ed05717",
   "metadata": {},
   "outputs": [],
   "source": [
    "df_event_occured = df_event_occured.drop(['event_name', 'event_attributes', 'event_created_date',\n",
    "                                          \"user_state\", \"event_platform\",\"device_manufacture\", \"device_model\"], axis=1)"
   ]
  },
  {
   "cell_type": "code",
   "execution_count": 29,
   "id": "9743c3c9",
   "metadata": {},
   "outputs": [],
   "source": [
    "df_event_occured = df_event_occured.drop_duplicates(subset = [\"userid\"])"
   ]
  },
  {
   "cell_type": "code",
   "execution_count": 30,
   "id": "713a4274",
   "metadata": {},
   "outputs": [],
   "source": [
    "\n",
    "#fig, ax = plt.subplots(figsize=(15,15))    \n",
    "#dataplot = sns.heatmap(df_event_occured.drop([\"userid\"], axis = 1).corr(), cmap=\"RdYlBu\", annot=True, ax = ax)\n",
    "#plt.show()"
   ]
  },
  {
   "cell_type": "code",
   "execution_count": 31,
   "id": "e9bbe6b3",
   "metadata": {},
   "outputs": [],
   "source": [
    "df_event_occured.to_csv(\"csv//event_occured_per_user.csv\")"
   ]
  },
  {
   "cell_type": "code",
   "execution_count": 32,
   "id": "3f83c17d",
   "metadata": {},
   "outputs": [],
   "source": [
    "df2 = copy.deepcopy(df)"
   ]
  },
  {
   "cell_type": "code",
   "execution_count": 146,
   "id": "fcf6231c",
   "metadata": {},
   "outputs": [],
   "source": [
    "label_encoder = LabelEncoder()\n",
    "df_static_data = copy.deepcopy(df2.drop(['userid', 'event_name', 'event_attributes', 'event_created_date'], axis=1))\n"
   ]
  },
  {
   "cell_type": "code",
   "execution_count": 147,
   "id": "52a874b6",
   "metadata": {},
   "outputs": [],
   "source": [
    "\n",
    "categories = [\"user_state\", \"event_platform\",\"device_manufacture\", \"device_model\"]\n",
    "for category in categories:\n",
    "    #print(df_static_data[category].unique())\n",
    "    df_static_data[category]=label_encoder.fit_transform(df_static_data[category])\n",
    "    #print(df_static_data[category].unique())\n"
   ]
  },
  {
   "cell_type": "code",
   "execution_count": 148,
   "id": "06e53a0d",
   "metadata": {},
   "outputs": [],
   "source": [
    "#dataplot = sns.heatmap(df_static_data.corr(), cmap=\"RdYlBu\", annot=True)\n",
    "#plt.show()"
   ]
  },
  {
   "cell_type": "code",
   "execution_count": 149,
   "id": "2bdb34de",
   "metadata": {},
   "outputs": [],
   "source": [
    "df_static_data.to_csv(\"csv//static_data.csv\")"
   ]
  },
  {
   "cell_type": "code",
   "execution_count": null,
   "id": "9dd0f765",
   "metadata": {},
   "outputs": [],
   "source": []
  },
  {
   "cell_type": "code",
   "execution_count": 150,
   "id": "64a601fe",
   "metadata": {},
   "outputs": [],
   "source": [
    "df_feature_by_state = copy.deepcopy(df)\n",
    "events = df[\"event_name\"].unique()\n"
   ]
  },
  {
   "cell_type": "code",
   "execution_count": 151,
   "id": "3d0ee2cb",
   "metadata": {},
   "outputs": [],
   "source": [
    "\n",
    "def event_occured_per_state(row):\n",
    "    if row['user_state'] in event_list:\n",
    "        return 1\n",
    "    else:\n",
    "        return 0\n"
   ]
  },
  {
   "cell_type": "code",
   "execution_count": 152,
   "id": "2753bd02",
   "metadata": {},
   "outputs": [],
   "source": [
    "\n",
    "for e in events:\n",
    "    event = e\n",
    "    if (event == 'Subscription Premium Cancel'):\n",
    "        continue\n",
    "    df_temp = df_feature_by_state[df_feature_by_state[\"event_name\"] == event]\n",
    "    event_list = df_temp[\"user_state\"].unique()\n",
    "    df_feature_by_state[event] = df_feature_by_state.apply(event_occured_per_state, axis=1)"
   ]
  },
  {
   "cell_type": "code",
   "execution_count": 153,
   "id": "1083005b",
   "metadata": {},
   "outputs": [],
   "source": [
    "df_feature_by_state = df_feature_by_state.drop(['event_attributes', 'event_created_date', \n",
    "                                                \"event_platform\",\"device_manufacture\", \"device_model\"], axis=1)"
   ]
  },
  {
   "cell_type": "code",
   "execution_count": 154,
   "id": "aaf30228",
   "metadata": {},
   "outputs": [],
   "source": [
    "#df_feature_by_state = df_feature_by_state.drop_duplicates(subset = [\"user_state\"])"
   ]
  },
  {
   "cell_type": "code",
   "execution_count": 155,
   "id": "acc491d8",
   "metadata": {},
   "outputs": [],
   "source": [
    "#df_feature_by_state.groupby([\"user_state\", 'Subscription Premium Cancel'])[\"user_state\"].count().unstack(fill_value=0).stack()"
   ]
  },
  {
   "cell_type": "code",
   "execution_count": 156,
   "id": "655be290",
   "metadata": {},
   "outputs": [],
   "source": [
    "count = df_feature_by_state.groupby([\"user_state\", 'Subscription Premium Cancel'])[\"user_state\"].count().unstack(fill_value=0).stack()"
   ]
  },
  {
   "cell_type": "code",
   "execution_count": 157,
   "id": "257fbcb8",
   "metadata": {},
   "outputs": [
    {
     "data": {
      "text/plain": [
       "72"
      ]
     },
     "execution_count": 157,
     "metadata": {},
     "output_type": "execute_result"
    }
   ],
   "source": [
    "len(count)"
   ]
  },
  {
   "cell_type": "code",
   "execution_count": 158,
   "id": "7e99b419",
   "metadata": {},
   "outputs": [],
   "source": [
    "cancel_percentage = [float(count[2*i + 1])/(count[2*i] + count[2*i + 1]) for i in range(int(len(count)/2))]"
   ]
  },
  {
   "cell_type": "code",
   "execution_count": 159,
   "id": "bb9368ba",
   "metadata": {},
   "outputs": [],
   "source": [
    "df_feature_per_state = copy.deepcopy(df_feature_by_state)\n",
    "\n",
    "df_feature_per_state = df_feature_per_state.drop(['Subscription Premium Cancel', 'Subscription Premium', 'Subscription Premium Renew', 'Sign Up Success'], axis=1)\n",
    "df_feature_per_state = df_feature_per_state.drop_duplicates(subset = [\"user_state\"])\n",
    "\n",
    "df_feature_per_state = df_feature_per_state.drop(['userid', 'event_name'], axis = 1).sort_values([\"user_state\"]).reset_index(drop = True)\n",
    "#df_feature_per_state"
   ]
  },
  {
   "cell_type": "code",
   "execution_count": 160,
   "id": "500d6c29",
   "metadata": {},
   "outputs": [],
   "source": [
    "df_feature_per_state[\"cancel_percentage\"] = cancel_percentage"
   ]
  },
  {
   "cell_type": "code",
   "execution_count": 161,
   "id": "4b69cb47",
   "metadata": {},
   "outputs": [],
   "source": [
    "#df_feature_per_state"
   ]
  },
  {
   "cell_type": "code",
   "execution_count": 33,
   "id": "f5ff2435",
   "metadata": {},
   "outputs": [],
   "source": [
    "#df_feature_per_state\n",
    "#fig, ax = plt.subplots(figsize=(15,10))    \n",
    "#dataplot = sns.heatmap(df_feature_per_state.corr(), cmap=\"RdYlBu\", annot=True)\n",
    "#plt.show()"
   ]
  },
  {
   "cell_type": "code",
   "execution_count": 163,
   "id": "8537be31",
   "metadata": {},
   "outputs": [
    {
     "data": {
      "text/plain": [
       "Add Payment Method Success             0.173526\n",
       "Account History Transaction Details   -0.115623\n",
       "Add Vehicle Success                   -0.422327\n",
       "Order                                 -0.470743\n",
       "Chat Conversation Opened               0.254613\n",
       "Add Vehicle Break                     -0.045242\n",
       "Chat Conversation Started              0.363799\n",
       "Email Confirmation Success            -0.230750\n",
       "Add Payment Method Failed             -0.238653\n",
       "Account Setup Skip                    -0.106902\n",
       "Calculator View                       -0.201246\n",
       "Wallet Opened                          0.290012\n",
       "Account Setup Profile Skip            -0.108586\n",
       "Sign Out                               0.033762\n",
       "Transaction Refund                     0.247031\n",
       "Calculator Used                       -0.209809\n",
       "Add Vehicle Failed                    -0.066353\n",
       "Sign Up Error                          0.032386\n",
       "Reset Password Set                    -0.173526\n",
       "cancel_percentage                      1.000000\n",
       "Name: cancel_percentage, dtype: float64"
      ]
     },
     "execution_count": 163,
     "metadata": {},
     "output_type": "execute_result"
    }
   ],
   "source": [
    "df_feature_per_state.corr()[\"cancel_percentage\"]"
   ]
  },
  {
   "cell_type": "code",
   "execution_count": 164,
   "id": "06c1f57e",
   "metadata": {},
   "outputs": [],
   "source": [
    "#df_feature_by_state = df_feature_by_state.drop_duplicates(subset = [\"user_state\"])"
   ]
  },
  {
   "cell_type": "code",
   "execution_count": null,
   "id": "1bb04a11",
   "metadata": {},
   "outputs": [],
   "source": []
  },
  {
   "cell_type": "code",
   "execution_count": 168,
   "id": "6aa50cda",
   "metadata": {},
   "outputs": [],
   "source": [
    "def remove_excess_events(df, tv):\n",
    "    target_values = tv\n",
    "    event_list = df[\"event_name\"].unique()\n",
    "    for i in event_list:\n",
    "        df_temp = df[df[\"event_name\"]==i]\n",
    "        if i in target_values:\n",
    "            continue\n",
    "        df = df.drop(df_temp.index)\n",
    "    return df"
   ]
  },
  {
   "cell_type": "code",
   "execution_count": 169,
   "id": "08d0f752",
   "metadata": {},
   "outputs": [],
   "source": [
    "tv = ['Add Vehicle Break', 'Add Vehicle Failed', 'Add Vehicle Success', \n",
    "                     \"Add Payment Method Failed\", \"Add Payment Method Success\"]\n",
    "df_errors = copy.deepcopy(df)\n",
    "df_errors = remove_excess_events(df_errors, tv)\n",
    "count = df_errors.groupby([\"userid\", \"event_name\"])[\"event_name\"].count().unstack(fill_value=0).stack()"
   ]
  },
  {
   "cell_type": "code",
   "execution_count": 170,
   "id": "1b8060fd",
   "metadata": {},
   "outputs": [],
   "source": [
    "target_values = ['Add Vehicle Break', 'Add Vehicle Failed', 'Add Vehicle Success', \"Add Payment Method Failed\", \"Add Payment Method Success\"]\n"
   ]
  },
  {
   "cell_type": "code",
   "execution_count": 171,
   "id": "e7fe1616",
   "metadata": {},
   "outputs": [],
   "source": [
    "targer_values_count = [[count[5*j + i] for j in range(int(len(count)/5))] for i in range(5)]\n",
    "\n",
    "for i in range(int(len(count)/5)):\n",
    "    if (count[5*i + 2] + count[5*i + 3] + count[5*i + 4]) == 0:\n",
    "        count[5*i + 2] = 1\n",
    "    if (count[5*i] + count[5*i + 1]) == 0:\n",
    "        count[5*i] = 1\n",
    "error_rate_vehicle = [float(count[5*i + 4])/(count[5*i + 2] + count[5*i + 3] + count[5*i + 4]) for i in range(int(len(count)/5))]\n",
    "error_rate_payment = [float(count[5*i + 1])/(count[5*i] + count[5*i + 1]) for i in range(int(len(count)/5))]"
   ]
  },
  {
   "cell_type": "code",
   "execution_count": null,
   "id": "42778842",
   "metadata": {},
   "outputs": [],
   "source": []
  },
  {
   "cell_type": "code",
   "execution_count": 172,
   "id": "363a5eda",
   "metadata": {},
   "outputs": [],
   "source": [
    "#print(len(error_rate_vehicle))\n",
    "#df_errors.drop_duplicates(subset = [\"userid\"])"
   ]
  },
  {
   "cell_type": "code",
   "execution_count": 173,
   "id": "2227b67c",
   "metadata": {},
   "outputs": [],
   "source": [
    "df_errors = df_errors.drop_duplicates(subset = [\"userid\"])\n",
    "df_errors = df_errors.drop(['event_name', 'event_attributes', 'event_created_date',\n",
    "                                          \"user_state\", \"event_platform\",\"device_manufacture\", \"device_model\"], axis=1)\n",
    "df_errors[\"error_rate_vehicle\"] = error_rate_vehicle\n",
    "df_errors[\"error_rate_payment\"] = error_rate_payment\n",
    "for i in range(5):\n",
    "    df_errors[target_values[i]] = targer_values_count[i]"
   ]
  },
  {
   "cell_type": "code",
   "execution_count": 174,
   "id": "787d0ead",
   "metadata": {
    "scrolled": false
   },
   "outputs": [
    {
     "data": {
      "image/png": "[encoded data removed]",
      "text/plain": [
       "<Figure size 432x288 with 2 Axes>"
      ]
     },
     "metadata": {
      "needs_background": "light"
     },
     "output_type": "display_data"
    }
   ],
   "source": [
    "dataplot = sns.heatmap(df_errors.corr(), cmap=\"RdYlBu\", annot=True)\n",
    "plt.show()"
   ]
  },
  {
   "cell_type": "code",
   "execution_count": 175,
   "id": "c958c304",
   "metadata": {},
   "outputs": [],
   "source": [
    "df_errors.to_csv(\"csv//error_data.csv\")"
   ]
  },
  {
   "cell_type": "code",
   "execution_count": 575,
   "id": "30910b3b",
   "metadata": {},
   "outputs": [],
   "source": [
    "df_feature_per_state.to_csv(\"csv//feature_per_state.csv\")"
   ]
  },
  {
   "cell_type": "code",
   "execution_count": null,
   "id": "542dcf71",
   "metadata": {},
   "outputs": [],
   "source": [
    "df_feature_per_state2 = copy.deepcopy(df_feature_by_state)"
   ]
  },
  {
   "cell_type": "code",
   "execution_count": 508,
   "id": "b8e78fb2",
   "metadata": {},
   "outputs": [],
   "source": [
    "df_feature_by_state.to_csv(\"csv//feature_by_state.csv\")"
   ]
  },
  {
   "cell_type": "code",
   "execution_count": 176,
   "id": "16c241ce",
   "metadata": {},
   "outputs": [
    {
     "data": {
      "text/html": [
       "<div>\n",
       "<style scoped>\n",
       "    .dataframe tbody tr th:only-of-type {\n",
       "        vertical-align: middle;\n",
       "    }\n",
       "\n",
       "    .dataframe tbody tr th {\n",
       "        vertical-align: top;\n",
       "    }\n",
       "\n",
       "    .dataframe thead th {\n",
       "        text-align: right;\n",
       "    }\n",
       "</style>\n",
       "<table border=\"1\" class=\"dataframe\">\n",
       "  <thead>\n",
       "    <tr style=\"text-align: right;\">\n",
       "      <th></th>\n",
       "      <th>userid</th>\n",
       "      <th>user_state</th>\n",
       "      <th>event_name</th>\n",
       "      <th>event_attributes</th>\n",
       "      <th>event_created_date</th>\n",
       "      <th>event_platform</th>\n",
       "      <th>device_manufacture</th>\n",
       "      <th>device_model</th>\n",
       "      <th>Subscription Premium Cancel</th>\n",
       "    </tr>\n",
       "  </thead>\n",
       "  <tbody>\n",
       "    <tr>\n",
       "      <th>460</th>\n",
       "      <td>08a7303ab016a7c191c9de4f5620ca32</td>\n",
       "      <td>OH</td>\n",
       "      <td>Subscription Premium Renew</td>\n",
       "      <td>{\"Start Date\":\"2022-02-05\",\"Renewal Date\":\"202...</td>\n",
       "      <td>2022-02-04 01:03:36</td>\n",
       "      <td>outofband</td>\n",
       "      <td>NaN</td>\n",
       "      <td>NaN</td>\n",
       "      <td>0</td>\n",
       "    </tr>\n",
       "    <tr>\n",
       "      <th>461</th>\n",
       "      <td>08d5f68b8484239c70c9a8683fceef8d</td>\n",
       "      <td>TX</td>\n",
       "      <td>Order</td>\n",
       "      <td>{\"Premium Membership\":\"True\"}</td>\n",
       "      <td>2022-01-19 06:47:44</td>\n",
       "      <td>outofband</td>\n",
       "      <td>NaN</td>\n",
       "      <td>NaN</td>\n",
       "      <td>0</td>\n",
       "    </tr>\n",
       "    <tr>\n",
       "      <th>462</th>\n",
       "      <td>08d5f68b8484239c70c9a8683fceef8d</td>\n",
       "      <td>TX</td>\n",
       "      <td>Order</td>\n",
       "      <td>{\"Premium Membership\":\"True\"}</td>\n",
       "      <td>2022-01-19 07:08:17</td>\n",
       "      <td>outofband</td>\n",
       "      <td>NaN</td>\n",
       "      <td>NaN</td>\n",
       "      <td>0</td>\n",
       "    </tr>\n",
       "    <tr>\n",
       "      <th>463</th>\n",
       "      <td>08d5f68b8484239c70c9a8683fceef8d</td>\n",
       "      <td>TX</td>\n",
       "      <td>Order</td>\n",
       "      <td>{\"Premium Membership\":\"True\"}</td>\n",
       "      <td>2022-01-29 07:12:26</td>\n",
       "      <td>outofband</td>\n",
       "      <td>NaN</td>\n",
       "      <td>NaN</td>\n",
       "      <td>0</td>\n",
       "    </tr>\n",
       "    <tr>\n",
       "      <th>464</th>\n",
       "      <td>08d5f68b8484239c70c9a8683fceef8d</td>\n",
       "      <td>TX</td>\n",
       "      <td>Order</td>\n",
       "      <td>{\"Premium Membership\":\"True\"}</td>\n",
       "      <td>2022-01-29 07:13:30</td>\n",
       "      <td>outofband</td>\n",
       "      <td>NaN</td>\n",
       "      <td>NaN</td>\n",
       "      <td>0</td>\n",
       "    </tr>\n",
       "    <tr>\n",
       "      <th>...</th>\n",
       "      <td>...</td>\n",
       "      <td>...</td>\n",
       "      <td>...</td>\n",
       "      <td>...</td>\n",
       "      <td>...</td>\n",
       "      <td>...</td>\n",
       "      <td>...</td>\n",
       "      <td>...</td>\n",
       "      <td>...</td>\n",
       "    </tr>\n",
       "    <tr>\n",
       "      <th>16519</th>\n",
       "      <td>f7969f6c5da30b31f73be28b6459d221</td>\n",
       "      <td>DC</td>\n",
       "      <td>Subscription Premium Renew</td>\n",
       "      <td>{\"Start Date\":\"2022-02-12\",\"Renewal Date\":\"202...</td>\n",
       "      <td>2022-02-11 01:15:32</td>\n",
       "      <td>outofband</td>\n",
       "      <td>NaN</td>\n",
       "      <td>NaN</td>\n",
       "      <td>0</td>\n",
       "    </tr>\n",
       "    <tr>\n",
       "      <th>16520</th>\n",
       "      <td>f7969f6c5da30b31f73be28b6459d221</td>\n",
       "      <td>DC</td>\n",
       "      <td>Subscription Premium Renew</td>\n",
       "      <td>{\"Start Date\":\"2022-03-12\",\"Renewal Date\":\"202...</td>\n",
       "      <td>2022-03-11 01:07:39</td>\n",
       "      <td>outofband</td>\n",
       "      <td>NaN</td>\n",
       "      <td>NaN</td>\n",
       "      <td>0</td>\n",
       "    </tr>\n",
       "    <tr>\n",
       "      <th>16521</th>\n",
       "      <td>f7969f6c5da30b31f73be28b6459d221</td>\n",
       "      <td>DC</td>\n",
       "      <td>Subscription Premium Renew</td>\n",
       "      <td>{\"Start Date\":\"2022-04-12\",\"Renewal Date\":\"202...</td>\n",
       "      <td>2022-04-11 01:13:35</td>\n",
       "      <td>outofband</td>\n",
       "      <td>NaN</td>\n",
       "      <td>NaN</td>\n",
       "      <td>0</td>\n",
       "    </tr>\n",
       "    <tr>\n",
       "      <th>16560</th>\n",
       "      <td>f8934a7f963c7cbb2858e5b575d6a7bd</td>\n",
       "      <td>TX</td>\n",
       "      <td>Subscription Premium Renew</td>\n",
       "      <td>{\"Start Date\":\"2022-02-16\",\"Renewal Date\":\"202...</td>\n",
       "      <td>2022-02-15 01:13:35</td>\n",
       "      <td>outofband</td>\n",
       "      <td>NaN</td>\n",
       "      <td>NaN</td>\n",
       "      <td>0</td>\n",
       "    </tr>\n",
       "    <tr>\n",
       "      <th>16667</th>\n",
       "      <td>fa60c0929575adbec4e933fa4fcbaf46</td>\n",
       "      <td>TX</td>\n",
       "      <td>Subscription Premium Renew</td>\n",
       "      <td>{\"Start Date\":\"2022-02-03\",\"Renewal Date\":\"202...</td>\n",
       "      <td>2022-02-02 01:02:36</td>\n",
       "      <td>outofband</td>\n",
       "      <td>NaN</td>\n",
       "      <td>NaN</td>\n",
       "      <td>0</td>\n",
       "    </tr>\n",
       "  </tbody>\n",
       "</table>\n",
       "<p>125 rows × 9 columns</p>\n",
       "</div>"
      ],
      "text/plain": [
       "                                 userid user_state  \\\n",
       "460    08a7303ab016a7c191c9de4f5620ca32         OH   \n",
       "461    08d5f68b8484239c70c9a8683fceef8d         TX   \n",
       "462    08d5f68b8484239c70c9a8683fceef8d         TX   \n",
       "463    08d5f68b8484239c70c9a8683fceef8d         TX   \n",
       "464    08d5f68b8484239c70c9a8683fceef8d         TX   \n",
       "...                                 ...        ...   \n",
       "16519  f7969f6c5da30b31f73be28b6459d221         DC   \n",
       "16520  f7969f6c5da30b31f73be28b6459d221         DC   \n",
       "16521  f7969f6c5da30b31f73be28b6459d221         DC   \n",
       "16560  f8934a7f963c7cbb2858e5b575d6a7bd         TX   \n",
       "16667  fa60c0929575adbec4e933fa4fcbaf46         TX   \n",
       "\n",
       "                       event_name  \\\n",
       "460    Subscription Premium Renew   \n",
       "461                         Order   \n",
       "462                         Order   \n",
       "463                         Order   \n",
       "464                         Order   \n",
       "...                           ...   \n",
       "16519  Subscription Premium Renew   \n",
       "16520  Subscription Premium Renew   \n",
       "16521  Subscription Premium Renew   \n",
       "16560  Subscription Premium Renew   \n",
       "16667  Subscription Premium Renew   \n",
       "\n",
       "                                        event_attributes   event_created_date  \\\n",
       "460    {\"Start Date\":\"2022-02-05\",\"Renewal Date\":\"202...  2022-02-04 01:03:36   \n",
       "461                        {\"Premium Membership\":\"True\"}  2022-01-19 06:47:44   \n",
       "462                        {\"Premium Membership\":\"True\"}  2022-01-19 07:08:17   \n",
       "463                        {\"Premium Membership\":\"True\"}  2022-01-29 07:12:26   \n",
       "464                        {\"Premium Membership\":\"True\"}  2022-01-29 07:13:30   \n",
       "...                                                  ...                  ...   \n",
       "16519  {\"Start Date\":\"2022-02-12\",\"Renewal Date\":\"202...  2022-02-11 01:15:32   \n",
       "16520  {\"Start Date\":\"2022-03-12\",\"Renewal Date\":\"202...  2022-03-11 01:07:39   \n",
       "16521  {\"Start Date\":\"2022-04-12\",\"Renewal Date\":\"202...  2022-04-11 01:13:35   \n",
       "16560  {\"Start Date\":\"2022-02-16\",\"Renewal Date\":\"202...  2022-02-15 01:13:35   \n",
       "16667  {\"Start Date\":\"2022-02-03\",\"Renewal Date\":\"202...  2022-02-02 01:02:36   \n",
       "\n",
       "      event_platform device_manufacture device_model  \\\n",
       "460        outofband                NaN          NaN   \n",
       "461        outofband                NaN          NaN   \n",
       "462        outofband                NaN          NaN   \n",
       "463        outofband                NaN          NaN   \n",
       "464        outofband                NaN          NaN   \n",
       "...              ...                ...          ...   \n",
       "16519      outofband                NaN          NaN   \n",
       "16520      outofband                NaN          NaN   \n",
       "16521      outofband                NaN          NaN   \n",
       "16560      outofband                NaN          NaN   \n",
       "16667      outofband                NaN          NaN   \n",
       "\n",
       "       Subscription Premium Cancel  \n",
       "460                              0  \n",
       "461                              0  \n",
       "462                              0  \n",
       "463                              0  \n",
       "464                              0  \n",
       "...                            ...  \n",
       "16519                            0  \n",
       "16520                            0  \n",
       "16521                            0  \n",
       "16560                            0  \n",
       "16667                            0  \n",
       "\n",
       "[125 rows x 9 columns]"
      ]
     },
     "execution_count": 176,
     "metadata": {},
     "output_type": "execute_result"
    }
   ],
   "source": []
  },
  {
   "cell_type": "code",
   "execution_count": 31,
   "id": "524bcac1",
   "metadata": {
    "scrolled": true
   },
   "outputs": [
    {
     "data": {
      "text/plain": [
       "'2022-04-16 20:50:39'"
      ]
     },
     "execution_count": 31,
     "metadata": {},
     "output_type": "execute_result"
    }
   ],
   "source": [
    "last_activity_date = max(df['event_created_date'])\n",
    "last_activity_date"
   ]
  },
  {
   "cell_type": "code",
   "execution_count": 53,
   "id": "e783f617",
   "metadata": {},
   "outputs": [],
   "source": [
    "def last_event_activity(row):\n",
    "    if row[event] == 1:\n",
    "        df_t = (df2[(df2['userid']==row['userid'])&(df2['event_name'] == event)][\"event_created_date\"])\n",
    "        if(len(df_t)>0):\n",
    "            return max(df_t)\n",
    "        else: return last_activity_date\n",
    "    else:\n",
    "        return last_activity_date"
   ]
  },
  {
   "cell_type": "code",
   "execution_count": 33,
   "id": "29c057e5",
   "metadata": {},
   "outputs": [],
   "source": [
    "tv = ['Order', 'Subscription Premium Cancel']\n",
    "df_orders = copy.deepcopy(df)\n",
    "#df_orders = remove_excess_events(df_orders, tv)\n",
    "df_orders = df_orders.drop([\"user_state\", \"event_platform\",\"device_manufacture\", \"device_model\"], axis=1)\n",
    "\n",
    "event = 'Order'\n",
    "df_temp = df[df[\"event_name\"] == event]\n",
    "event_list = df_temp[\"userid\"].unique()\n",
    "\n",
    "df_orders[event] = df_orders.apply(event_occured_per_user, axis=1)\n",
    "df2 = copy.deepcopy(df_orders)\n",
    "df_orders = df_orders.drop_duplicates(subset = [\"userid\"])"
   ]
  },
  {
   "cell_type": "code",
   "execution_count": 34,
   "id": "86e06f3a",
   "metadata": {},
   "outputs": [],
   "source": [
    "\n",
    "\n",
    "def order_difference_d(row):\n",
    "    if (row['Order']==0 and row['Subscription Premium Cancel']==1):\n",
    "        return -1\n",
    "    difference = ((np.datetime64(row[\"last date Subscription Premium Cancel\"][:10]) - np.datetime64(row[\"last date Order\"][:10])))\n",
    "    return max(int(difference / np.timedelta64(1, 'D')), 0)\n",
    "\n",
    "def order_difference_m(row):\n",
    "    if (row['Order']==0 and row['Subscription Premium Cancel']==1):\n",
    "        return -1\n",
    "    difference = ((np.datetime64(row[\"last date Subscription Premium Cancel\"][:10]) - np.datetime64(row[\"last date Order\"][:10])))\n",
    "    return max(int((difference / np.timedelta64(1, 'D'))/30), 0)\n",
    "\n",
    "def order_difference_more_than_month(row):\n",
    "    if (row['Order']==0 and row['Subscription Premium Cancel']==1):\n",
    "        return 1\n",
    "    difference = ((np.datetime64(row[\"last date Subscription Premium Cancel\"][:10]) - np.datetime64(row[\"last date Order\"][:10])))\n",
    "    difference = int(int(difference / np.timedelta64(1, 'D')/30))\n",
    "    return min(difference, 1)\n",
    "\n",
    "\n",
    "def order_difference_more_than_10_days(row):\n",
    "    if (row['Order']==0 and row['Subscription Premium Cancel']==1):\n",
    "        return 1\n",
    "    difference = ((np.datetime64(row[\"last date Subscription Premium Cancel\"][:10]) - np.datetime64(row[\"last date Order\"][:10])))\n",
    "    difference = int(difference / np.timedelta64(1, 'D'))\n",
    "    if (difference>10):\n",
    "        return 1\n",
    "    else: return 0"
   ]
  },
  {
   "cell_type": "code",
   "execution_count": 35,
   "id": "42043774",
   "metadata": {},
   "outputs": [],
   "source": [
    "for ev in tv:\n",
    "    event = ev\n",
    "    df_orders[\"last date \"+event] = df_orders.apply(last_event_activity, axis=1)\n",
    "\n",
    "df_orders = df_orders[df_orders['Order'] == 1] #!!!!\n",
    "\n",
    "df_orders[\"difference of days\"] = df_orders.apply(order_difference_d, axis=1)\n",
    "df_orders[\"difference of months\"] = df_orders.apply(order_difference_m, axis=1)\n",
    "df_orders[\"month had passed\"] = df_orders.apply(order_difference_more_than_month, axis=1)\n",
    "df_orders[\"10 days had passed\"] = df_orders.apply(order_difference_more_than_10_days, axis=1)"
   ]
  },
  {
   "cell_type": "code",
   "execution_count": 36,
   "id": "67d9e31c",
   "metadata": {},
   "outputs": [
    {
     "data": {
      "text/html": [
       "<div>\n",
       "<style scoped>\n",
       "    .dataframe tbody tr th:only-of-type {\n",
       "        vertical-align: middle;\n",
       "    }\n",
       "\n",
       "    .dataframe tbody tr th {\n",
       "        vertical-align: top;\n",
       "    }\n",
       "\n",
       "    .dataframe thead th {\n",
       "        text-align: right;\n",
       "    }\n",
       "</style>\n",
       "<table border=\"1\" class=\"dataframe\">\n",
       "  <thead>\n",
       "    <tr style=\"text-align: right;\">\n",
       "      <th></th>\n",
       "      <th>Subscription Premium Cancel</th>\n",
       "      <th>difference of days</th>\n",
       "      <th>difference of months</th>\n",
       "      <th>month had passed</th>\n",
       "      <th>10 days had passed</th>\n",
       "    </tr>\n",
       "  </thead>\n",
       "  <tbody>\n",
       "    <tr>\n",
       "      <th>6</th>\n",
       "      <td>0</td>\n",
       "      <td>42</td>\n",
       "      <td>1</td>\n",
       "      <td>1</td>\n",
       "      <td>1</td>\n",
       "    </tr>\n",
       "    <tr>\n",
       "      <th>76</th>\n",
       "      <td>0</td>\n",
       "      <td>2</td>\n",
       "      <td>0</td>\n",
       "      <td>0</td>\n",
       "      <td>0</td>\n",
       "    </tr>\n",
       "    <tr>\n",
       "      <th>128</th>\n",
       "      <td>0</td>\n",
       "      <td>57</td>\n",
       "      <td>1</td>\n",
       "      <td>1</td>\n",
       "      <td>1</td>\n",
       "    </tr>\n",
       "    <tr>\n",
       "      <th>141</th>\n",
       "      <td>0</td>\n",
       "      <td>0</td>\n",
       "      <td>0</td>\n",
       "      <td>0</td>\n",
       "      <td>0</td>\n",
       "    </tr>\n",
       "    <tr>\n",
       "      <th>172</th>\n",
       "      <td>1</td>\n",
       "      <td>0</td>\n",
       "      <td>0</td>\n",
       "      <td>0</td>\n",
       "      <td>0</td>\n",
       "    </tr>\n",
       "    <tr>\n",
       "      <th>...</th>\n",
       "      <td>...</td>\n",
       "      <td>...</td>\n",
       "      <td>...</td>\n",
       "      <td>...</td>\n",
       "      <td>...</td>\n",
       "    </tr>\n",
       "    <tr>\n",
       "      <th>16692</th>\n",
       "      <td>0</td>\n",
       "      <td>36</td>\n",
       "      <td>1</td>\n",
       "      <td>1</td>\n",
       "      <td>1</td>\n",
       "    </tr>\n",
       "    <tr>\n",
       "      <th>16770</th>\n",
       "      <td>1</td>\n",
       "      <td>0</td>\n",
       "      <td>0</td>\n",
       "      <td>0</td>\n",
       "      <td>0</td>\n",
       "    </tr>\n",
       "    <tr>\n",
       "      <th>16783</th>\n",
       "      <td>0</td>\n",
       "      <td>54</td>\n",
       "      <td>1</td>\n",
       "      <td>1</td>\n",
       "      <td>1</td>\n",
       "    </tr>\n",
       "    <tr>\n",
       "      <th>16847</th>\n",
       "      <td>0</td>\n",
       "      <td>17</td>\n",
       "      <td>0</td>\n",
       "      <td>0</td>\n",
       "      <td>1</td>\n",
       "    </tr>\n",
       "    <tr>\n",
       "      <th>16870</th>\n",
       "      <td>0</td>\n",
       "      <td>72</td>\n",
       "      <td>2</td>\n",
       "      <td>1</td>\n",
       "      <td>1</td>\n",
       "    </tr>\n",
       "  </tbody>\n",
       "</table>\n",
       "<p>476 rows × 5 columns</p>\n",
       "</div>"
      ],
      "text/plain": [
       "       Subscription Premium Cancel  difference of days  difference of months  \\\n",
       "6                                0                  42                     1   \n",
       "76                               0                   2                     0   \n",
       "128                              0                  57                     1   \n",
       "141                              0                   0                     0   \n",
       "172                              1                   0                     0   \n",
       "...                            ...                 ...                   ...   \n",
       "16692                            0                  36                     1   \n",
       "16770                            1                   0                     0   \n",
       "16783                            0                  54                     1   \n",
       "16847                            0                  17                     0   \n",
       "16870                            0                  72                     2   \n",
       "\n",
       "       month had passed  10 days had passed  \n",
       "6                     1                   1  \n",
       "76                    0                   0  \n",
       "128                   1                   1  \n",
       "141                   0                   0  \n",
       "172                   0                   0  \n",
       "...                 ...                 ...  \n",
       "16692                 1                   1  \n",
       "16770                 0                   0  \n",
       "16783                 1                   1  \n",
       "16847                 0                   1  \n",
       "16870                 1                   1  \n",
       "\n",
       "[476 rows x 5 columns]"
      ]
     },
     "execution_count": 36,
     "metadata": {},
     "output_type": "execute_result"
    }
   ],
   "source": [
    "df_orders = df_orders.drop(['userid', 'last date Order', 'last date Subscription Premium Cancel', 'event_name', 'event_attributes','event_created_date', 'Order'], axis = 1)\n",
    "df_orders"
   ]
  },
  {
   "cell_type": "code",
   "execution_count": 37,
   "id": "caad0128",
   "metadata": {},
   "outputs": [
    {
     "data": {
      "image/png": "[encoded data removed]",
      "text/plain": [
       "<Figure size 432x288 with 2 Axes>"
      ]
     },
     "metadata": {
      "needs_background": "light"
     },
     "output_type": "display_data"
    }
   ],
   "source": [
    "dataplot = sns.heatmap(df_orders.corr(), cmap=\"RdYlBu\", annot=True)\n",
    "plt.show()"
   ]
  },
  {
   "cell_type": "code",
   "execution_count": 38,
   "id": "955ffbd0",
   "metadata": {},
   "outputs": [],
   "source": [
    "df_orders.to_csv(\"csv//date_between_order_and_cancel.csv\")"
   ]
  },
  {
   "cell_type": "code",
   "execution_count": 39,
   "id": "50ccc19c",
   "metadata": {},
   "outputs": [],
   "source": [
    "#last_activity_date = df_orders.groupby('userid').tail(1).drop([\"event_name\", \"event_attributes\"], axis = 1)"
   ]
  },
  {
   "cell_type": "code",
   "execution_count": 40,
   "id": "a2a97680",
   "metadata": {},
   "outputs": [],
   "source": [
    "\n",
    "#df[df[\"event_name\"] == 'Transaction Refund'][\"event_attributes\"].unique()"
   ]
  },
  {
   "cell_type": "code",
   "execution_count": null,
   "id": "7d07b81d",
   "metadata": {},
   "outputs": [],
   "source": []
  },
  {
   "cell_type": "code",
   "execution_count": 74,
   "id": "bddf728f",
   "metadata": {},
   "outputs": [],
   "source": [
    "df = createdf(\"csv//sorted_filled_test.csv\")"
   ]
  },
  {
   "cell_type": "code",
   "execution_count": 75,
   "id": "512f09b5",
   "metadata": {},
   "outputs": [],
   "source": [
    "df = createdf(\"csv//sorted_filled_test.csv\")"
   ]
  },
  {
   "cell_type": "code",
   "execution_count": 76,
   "id": "b26b1797",
   "metadata": {},
   "outputs": [],
   "source": [
    "df_return_annual_monthly = copy.deepcopy(df)"
   ]
  },
  {
   "cell_type": "code",
   "execution_count": 77,
   "id": "240c2c09",
   "metadata": {},
   "outputs": [
    {
     "data": {
      "text/html": [
       "<div>\n",
       "<style scoped>\n",
       "    .dataframe tbody tr th:only-of-type {\n",
       "        vertical-align: middle;\n",
       "    }\n",
       "\n",
       "    .dataframe tbody tr th {\n",
       "        vertical-align: top;\n",
       "    }\n",
       "\n",
       "    .dataframe thead th {\n",
       "        text-align: right;\n",
       "    }\n",
       "</style>\n",
       "<table border=\"1\" class=\"dataframe\">\n",
       "  <thead>\n",
       "    <tr style=\"text-align: right;\">\n",
       "      <th></th>\n",
       "      <th>userid</th>\n",
       "      <th>user_state</th>\n",
       "      <th>event_name</th>\n",
       "      <th>event_created_date</th>\n",
       "      <th>event_platform</th>\n",
       "      <th>device_manufacture</th>\n",
       "      <th>device_model</th>\n",
       "      <th>Subscription Premium Cancel</th>\n",
       "      <th>Payment Method</th>\n",
       "      <th>Tokenized Pay</th>\n",
       "      <th>...</th>\n",
       "      <th>Error Code</th>\n",
       "      <th>Error Message</th>\n",
       "      <th>Screen</th>\n",
       "      <th>Transaction type</th>\n",
       "      <th>Id</th>\n",
       "      <th>Amount</th>\n",
       "      <th>Description</th>\n",
       "      <th>Google Map Installed</th>\n",
       "      <th>Selected Route Type</th>\n",
       "      <th>Transaction Type</th>\n",
       "    </tr>\n",
       "  </thead>\n",
       "  <tbody>\n",
       "    <tr>\n",
       "      <th>0</th>\n",
       "      <td>0006869712ec9841dc36234bce245203</td>\n",
       "      <td>MD</td>\n",
       "      <td>Add Payment Method Success</td>\n",
       "      <td>2022-01-19 18:47:45</td>\n",
       "      <td>android</td>\n",
       "      <td>samsung</td>\n",
       "      <td>SM-A716U</td>\n",
       "      <td>0</td>\n",
       "      <td>Debit</td>\n",
       "      <td></td>\n",
       "      <td>...</td>\n",
       "      <td>NaN</td>\n",
       "      <td>NaN</td>\n",
       "      <td>NaN</td>\n",
       "      <td>NaN</td>\n",
       "      <td>NaN</td>\n",
       "      <td>NaN</td>\n",
       "      <td>NaN</td>\n",
       "      <td>NaN</td>\n",
       "      <td>NaN</td>\n",
       "      <td>NaN</td>\n",
       "    </tr>\n",
       "    <tr>\n",
       "      <th>1</th>\n",
       "      <td>0006869712ec9841dc36234bce245203</td>\n",
       "      <td>MD</td>\n",
       "      <td>Subscription Premium</td>\n",
       "      <td>2022-01-19 18:48:01</td>\n",
       "      <td>android</td>\n",
       "      <td>samsung</td>\n",
       "      <td>SM-A716U</td>\n",
       "      <td>0</td>\n",
       "      <td>NaN</td>\n",
       "      <td>NaN</td>\n",
       "      <td>...</td>\n",
       "      <td>NaN</td>\n",
       "      <td>NaN</td>\n",
       "      <td>NaN</td>\n",
       "      <td>NaN</td>\n",
       "      <td>NaN</td>\n",
       "      <td>NaN</td>\n",
       "      <td>NaN</td>\n",
       "      <td>NaN</td>\n",
       "      <td>NaN</td>\n",
       "      <td>NaN</td>\n",
       "    </tr>\n",
       "    <tr>\n",
       "      <th>2</th>\n",
       "      <td>0006869712ec9841dc36234bce245203</td>\n",
       "      <td>MD</td>\n",
       "      <td>Account History Transaction Details</td>\n",
       "      <td>2022-01-19 18:48:08</td>\n",
       "      <td>android</td>\n",
       "      <td>samsung</td>\n",
       "      <td>SM-A716U</td>\n",
       "      <td>0</td>\n",
       "      <td>NaN</td>\n",
       "      <td>NaN</td>\n",
       "      <td>...</td>\n",
       "      <td>NaN</td>\n",
       "      <td>NaN</td>\n",
       "      <td>NaN</td>\n",
       "      <td>NaN</td>\n",
       "      <td>NaN</td>\n",
       "      <td>NaN</td>\n",
       "      <td>NaN</td>\n",
       "      <td>NaN</td>\n",
       "      <td>NaN</td>\n",
       "      <td>NaN</td>\n",
       "    </tr>\n",
       "    <tr>\n",
       "      <th>3</th>\n",
       "      <td>0006869712ec9841dc36234bce245203</td>\n",
       "      <td>MD</td>\n",
       "      <td>Account History Transaction Details</td>\n",
       "      <td>2022-01-19 18:48:44</td>\n",
       "      <td>android</td>\n",
       "      <td>samsung</td>\n",
       "      <td>SM-A716U</td>\n",
       "      <td>0</td>\n",
       "      <td>NaN</td>\n",
       "      <td>NaN</td>\n",
       "      <td>...</td>\n",
       "      <td>NaN</td>\n",
       "      <td>NaN</td>\n",
       "      <td>NaN</td>\n",
       "      <td>NaN</td>\n",
       "      <td>NaN</td>\n",
       "      <td>NaN</td>\n",
       "      <td>NaN</td>\n",
       "      <td>NaN</td>\n",
       "      <td>NaN</td>\n",
       "      <td>NaN</td>\n",
       "    </tr>\n",
       "    <tr>\n",
       "      <th>4</th>\n",
       "      <td>0006869712ec9841dc36234bce245203</td>\n",
       "      <td>MD</td>\n",
       "      <td>Add Vehicle Success</td>\n",
       "      <td>2022-01-19 18:50:34</td>\n",
       "      <td>android</td>\n",
       "      <td>samsung</td>\n",
       "      <td>SM-A716U</td>\n",
       "      <td>0</td>\n",
       "      <td>NaN</td>\n",
       "      <td>NaN</td>\n",
       "      <td>...</td>\n",
       "      <td>NaN</td>\n",
       "      <td>NaN</td>\n",
       "      <td>NaN</td>\n",
       "      <td>NaN</td>\n",
       "      <td>NaN</td>\n",
       "      <td>NaN</td>\n",
       "      <td>NaN</td>\n",
       "      <td>NaN</td>\n",
       "      <td>NaN</td>\n",
       "      <td>NaN</td>\n",
       "    </tr>\n",
       "  </tbody>\n",
       "</table>\n",
       "<p>5 rows × 39 columns</p>\n",
       "</div>"
      ],
      "text/plain": [
       "                             userid user_state  \\\n",
       "0  0006869712ec9841dc36234bce245203         MD   \n",
       "1  0006869712ec9841dc36234bce245203         MD   \n",
       "2  0006869712ec9841dc36234bce245203         MD   \n",
       "3  0006869712ec9841dc36234bce245203         MD   \n",
       "4  0006869712ec9841dc36234bce245203         MD   \n",
       "\n",
       "                            event_name   event_created_date event_platform  \\\n",
       "0           Add Payment Method Success  2022-01-19 18:47:45        android   \n",
       "1                 Subscription Premium  2022-01-19 18:48:01        android   \n",
       "2  Account History Transaction Details  2022-01-19 18:48:08        android   \n",
       "3  Account History Transaction Details  2022-01-19 18:48:44        android   \n",
       "4                  Add Vehicle Success  2022-01-19 18:50:34        android   \n",
       "\n",
       "  device_manufacture device_model  Subscription Premium Cancel Payment Method  \\\n",
       "0            samsung     SM-A716U                            0          Debit   \n",
       "1            samsung     SM-A716U                            0            NaN   \n",
       "2            samsung     SM-A716U                            0            NaN   \n",
       "3            samsung     SM-A716U                            0            NaN   \n",
       "4            samsung     SM-A716U                            0            NaN   \n",
       "\n",
       "  Tokenized Pay  ... Error Code Error Message Screen Transaction type   Id  \\\n",
       "0                ...        NaN           NaN    NaN              NaN  NaN   \n",
       "1           NaN  ...        NaN           NaN    NaN              NaN  NaN   \n",
       "2           NaN  ...        NaN           NaN    NaN              NaN  NaN   \n",
       "3           NaN  ...        NaN           NaN    NaN              NaN  NaN   \n",
       "4           NaN  ...        NaN           NaN    NaN              NaN  NaN   \n",
       "\n",
       "  Amount Description Google Map Installed Selected Route Type Transaction Type  \n",
       "0    NaN         NaN                  NaN                 NaN              NaN  \n",
       "1    NaN         NaN                  NaN                 NaN              NaN  \n",
       "2    NaN         NaN                  NaN                 NaN              NaN  \n",
       "3    NaN         NaN                  NaN                 NaN              NaN  \n",
       "4    NaN         NaN                  NaN                 NaN              NaN  \n",
       "\n",
       "[5 rows x 39 columns]"
      ]
     },
     "execution_count": 77,
     "metadata": {},
     "output_type": "execute_result"
    }
   ],
   "source": [
    "import json\n",
    "\n",
    "df['event_attributes'] = df['event_attributes'].apply(json.loads)\n",
    "\n",
    "event_attributes = df['event_attributes'].to_list()\n",
    "event_attributes_df = pd.DataFrame(event_attributes)\n",
    "\n",
    "enriched_df = df.join(event_attributes_df)\n",
    "enriched_df = enriched_df.drop(columns='event_attributes')\n",
    "\n",
    "enriched_df.head()"
   ]
  },
  {
   "cell_type": "code",
   "execution_count": 78,
   "id": "b4d5c688",
   "metadata": {},
   "outputs": [
    {
     "data": {
      "text/plain": [
       "Index(['userid', 'user_state', 'event_name', 'event_created_date',\n",
       "       'event_platform', 'device_manufacture', 'device_model',\n",
       "       'Subscription Premium Cancel', 'Payment Method', 'Tokenized Pay',\n",
       "       'Start Date', 'Renewal Date', 'Membership Type', 'Navigated From',\n",
       "       'Status', 'Type', 'Make', 'Model', 'Color', 'Year', 'Temporary',\n",
       "       'End Date', 'Rental state', 'Method', 'Premium Membership',\n",
       "       'Rental State', 'Promo code', 'From', 'Required', 'Error Code',\n",
       "       'Error Message', 'Screen', 'Transaction type', 'Id', 'Amount',\n",
       "       'Description', 'Google Map Installed', 'Selected Route Type',\n",
       "       'Transaction Type'],\n",
       "      dtype='object')"
      ]
     },
     "execution_count": 78,
     "metadata": {},
     "output_type": "execute_result"
    }
   ],
   "source": [
    "enriched_df.columns"
   ]
  },
  {
   "cell_type": "code",
   "execution_count": 79,
   "id": "8374d4df",
   "metadata": {},
   "outputs": [
    {
     "data": {
      "text/plain": [
       "array([nan, 'Monthly', 'Yearly'], dtype=object)"
      ]
     },
     "execution_count": 79,
     "metadata": {},
     "output_type": "execute_result"
    }
   ],
   "source": [
    "enriched_df[\"Membership Type\"].unique()"
   ]
  },
  {
   "cell_type": "code",
   "execution_count": 80,
   "id": "317e7566",
   "metadata": {},
   "outputs": [],
   "source": [
    "event_list = [enriched_df[enriched_df[\"Membership Type\"]==i]['userid'].unique() for i in ['Monthly', 'Yearly']]"
   ]
  },
  {
   "cell_type": "code",
   "execution_count": 81,
   "id": "1ba95380",
   "metadata": {
    "scrolled": true
   },
   "outputs": [],
   "source": [
    "def event_occured_per_user(row):\n",
    "    if row['userid'] in event_list:\n",
    "        return 1\n",
    "    else:\n",
    "        return 0\n",
    "#for i in range(2):\n",
    "    "
   ]
  },
  {
   "cell_type": "code",
   "execution_count": 82,
   "id": "b7ca99f7",
   "metadata": {},
   "outputs": [],
   "source": [
    "tv = ['Subscription Premium', 'Subscription Premium Renew']"
   ]
  },
  {
   "cell_type": "code",
   "execution_count": 83,
   "id": "79e57e15",
   "metadata": {},
   "outputs": [],
   "source": [
    "df_return_annual_monthly = df_return_annual_monthly.drop([\"user_state\", \"event_platform\",\"device_manufacture\", \"device_model\"], axis=1)\n",
    "\n",
    "event = tv[1]\n",
    "df_temp = df[df[\"event_name\"] == event]\n",
    "event_list = df_temp[\"userid\"].unique()\n",
    "\n",
    "\n",
    "df_return_annual_monthly[event] = df_return_annual_monthly.apply(event_occured_per_user, axis=1)\n",
    "\n",
    "event = tv[0]\n",
    "df_temp = df[df[\"event_name\"] == event]\n",
    "event_list = df_temp[\"userid\"].unique()\n",
    "\n",
    "\n",
    "\n",
    "df_return_annual_monthly[event] = df_return_annual_monthly.apply(event_occured_per_user, axis=1)"
   ]
  },
  {
   "cell_type": "code",
   "execution_count": 84,
   "id": "9fb5f5c9",
   "metadata": {},
   "outputs": [],
   "source": [
    "\n",
    "df2 = copy.deepcopy(df_return_annual_monthly)\n",
    "df_return_annual_monthly = df_return_annual_monthly.drop_duplicates(subset = [\"userid\"])"
   ]
  },
  {
   "cell_type": "code",
   "execution_count": 85,
   "id": "af0fdd9b",
   "metadata": {},
   "outputs": [],
   "source": [
    "def event_occured_per_user(row):\n",
    "    if row['userid'] in event_list:\n",
    "        return 1\n",
    "    else:\n",
    "        return 0\n",
    "    \n",
    "\n",
    "\n",
    "def event_difference_d(row):\n",
    "    if (row[event]==0 and row['Subscription Premium Cancel']==1):\n",
    "        return -1\n",
    "    difference = ((np.datetime64(row[\"last date Subscription Premium Cancel\"][:10]) - np.datetime64(row[\"last date \"+event][:10])))\n",
    "    return max(int(difference / np.timedelta64(1, 'D')), 0)\n",
    "\n",
    "def event_difference_m(row):\n",
    "    if (row[event]==0 and row['Subscription Premium Cancel']==1):\n",
    "        return -1\n",
    "    difference = ((np.datetime64(row[\"last date Subscription Premium Cancel\"][:10]) - np.datetime64(row[\"last date \"+event][:10])))\n",
    "    return max(int((difference / np.timedelta64(1, 'D'))/30), 0)\n",
    "\n",
    "def event_difference_less_than_month(row):\n",
    "    if (row[event]==0 and row['Subscription Premium Cancel']==1):\n",
    "        return 1\n",
    "    difference = ((np.datetime64(row[\"last date Subscription Premium Cancel\"][:10]) - np.datetime64(row[\"last date \"+event][:10])))\n",
    "    difference = int(int(difference / np.timedelta64(1, 'D')/30))\n",
    "    return min(difference, 1)\n",
    "\n",
    "\n",
    "def event_difference_less_than_2_days(row):\n",
    "    if (row[event]==0 and row['Subscription Premium Cancel']==1):\n",
    "        return 1\n",
    "    difference = ((np.datetime64(row[\"last date Subscription Premium Cancel\"][:10]) - np.datetime64(row[\"last date \"+event][:10])))\n",
    "    difference = int(difference / np.timedelta64(1, 'D'))\n",
    "    if (difference<2):\n",
    "        return 1\n",
    "    else: return 0"
   ]
  },
  {
   "cell_type": "code",
   "execution_count": 86,
   "id": "5ecfa587",
   "metadata": {},
   "outputs": [],
   "source": [
    "\n",
    "event = \"Subscription Premium Cancel\"\n",
    "df_return_annual_monthly[\"last date \"+event] = df_return_annual_monthly.apply(last_event_activity, axis=1)\n",
    "\n",
    "for ev in tv: \n",
    "    event = ev\n",
    "    df_return_annual_monthly[\"last date \"+event] = df_return_annual_monthly.apply(last_event_activity, axis=1)\n",
    "        \n",
    "    df_return_annual_monthly[\"delta days \" + event] = df_return_annual_monthly.apply(event_difference_d, axis=1)\n",
    "    df_return_annual_monthly[\"delta months\" + event] = df_return_annual_monthly.apply(event_difference_m, axis=1)\n",
    "    df_return_annual_monthly[\"month had passed \"+ event] = df_return_annual_monthly.apply(event_difference_less_than_month, axis=1)\n",
    "    df_return_annual_monthly[\"2 days had not passed \"+ event] = df_return_annual_monthly.apply(event_difference_less_than_2_days, axis=1)"
   ]
  },
  {
   "cell_type": "code",
   "execution_count": 87,
   "id": "f49497c0",
   "metadata": {
    "scrolled": false
   },
   "outputs": [],
   "source": [
    "#fig, ax = plt.subplots(figsize=(15,15))\n",
    "#dataplot = sns.heatmap(df_return_annual_monthly.corr(), cmap=\"RdYlBu\", annot=True)\n",
    "#plt.show()"
   ]
  },
  {
   "cell_type": "code",
   "execution_count": 88,
   "id": "9e5e2f88",
   "metadata": {},
   "outputs": [],
   "source": [
    "df_return_annual_monthly.to_csv(\"csv//date_between_renew_and_cancel.csv\")"
   ]
  },
  {
   "cell_type": "code",
   "execution_count": null,
   "id": "5a2498fc",
   "metadata": {},
   "outputs": [],
   "source": []
  },
  {
   "cell_type": "code",
   "execution_count": 89,
   "id": "ce8865bf",
   "metadata": {},
   "outputs": [],
   "source": [
    "renew_check = copy.deepcopy(df[df[\"event_name\"] == 'Subscription Premium Renew'])\n",
    "subscription_check = copy.deepcopy(df[df[\"event_name\"] == 'Subscription Premium'])"
   ]
  },
  {
   "cell_type": "code",
   "execution_count": 90,
   "id": "79d778e5",
   "metadata": {},
   "outputs": [],
   "source": [
    "subscription_check[\"Sign Up Success\"] = [1]*len(subscription_check)\n",
    "subscription_check['Subscription Premium'] = [1]*len(subscription_check)\n",
    "renew_check['Subscription Premium Renew'] = [1]*len(renew_check)"
   ]
  },
  {
   "cell_type": "code",
   "execution_count": 91,
   "id": "1138206a",
   "metadata": {},
   "outputs": [],
   "source": [
    "def membership_type(row):\n",
    "    df2 = enriched_df\n",
    "    df_t = (df2[(df2['userid']==row['userid'])&(df2['event_name'] == event)])\n",
    "    if(len(df_t)>0):\n",
    "        df_t = df_t[df_t[\"event_created_date\"] == max(df_t[\"event_created_date\"])]\n",
    "        membership = df_t[\"Membership Type\"].values[0]\n",
    "        #print(membership)\n",
    "        return (membership)\n",
    "    else: return -1"
   ]
  },
  {
   "cell_type": "code",
   "execution_count": null,
   "id": "b30947c3",
   "metadata": {},
   "outputs": [],
   "source": []
  },
  {
   "cell_type": "code",
   "execution_count": 92,
   "id": "fc2fbce2",
   "metadata": {},
   "outputs": [],
   "source": [
    "#(df3[(df3['userid']=='0006869712ec9841dc36234bce245203')&(df3['event_name'] == 'Subscription Premium')])[\"Membership Type\"].values[0]"
   ]
  },
  {
   "cell_type": "code",
   "execution_count": null,
   "id": "0e8093e5",
   "metadata": {},
   "outputs": [],
   "source": []
  },
  {
   "cell_type": "code",
   "execution_count": null,
   "id": "cf2ea538",
   "metadata": {},
   "outputs": [],
   "source": []
  },
  {
   "cell_type": "code",
   "execution_count": 93,
   "id": "df41d1c5",
   "metadata": {},
   "outputs": [],
   "source": [
    "renew_check = renew_check.drop([\"user_state\", \"event_platform\",\"device_manufacture\", \"device_model\"], axis=1)\n",
    "subscription_check = subscription_check.drop([\"user_state\", \"event_platform\",\"device_manufacture\", \"device_model\"], axis=1)"
   ]
  },
  {
   "cell_type": "code",
   "execution_count": 94,
   "id": "40b57b3a",
   "metadata": {},
   "outputs": [],
   "source": [
    "event = \"Subscription Premium Cancel\"\n",
    "renew_check[\"last date \"+event] = renew_check.apply(last_event_activity, axis=1)\n",
    "subscription_check[\"last date \"+event] = subscription_check.apply(last_event_activity, axis=1)\n",
    "\n",
    "\n",
    "\n",
    "event =  'Subscription Premium Renew'\n",
    "renew_check[\"last date \"+ event] = renew_check.apply(last_event_activity, axis=1)\n",
    "#renew_check[\"Membership\"] = renew_check.apply(membership_type, axis=1)\n",
    "renew_check[\"Membership YM\"]  = renew_check.apply(membership_type, axis=1)\n",
    "renew_check[\"2 days had not passed\" + event]  = renew_check.apply(event_difference_less_than_2_days, axis=1)\n",
    "\n",
    "event =  'Subscription Premium'\n",
    "subscription_check[\"Membership YM\"]  = subscription_check.apply(membership_type, axis=1)"
   ]
  },
  {
   "cell_type": "code",
   "execution_count": null,
   "id": "4ebecdfb",
   "metadata": {},
   "outputs": [],
   "source": []
  },
  {
   "cell_type": "code",
   "execution_count": null,
   "id": "fc1486b4",
   "metadata": {},
   "outputs": [],
   "source": []
  },
  {
   "cell_type": "code",
   "execution_count": 95,
   "id": "656caf55",
   "metadata": {},
   "outputs": [],
   "source": [
    "\n",
    "tv =  ['Subscription Premium', \"Sign Up Success\"]\n",
    "for ev in tv:\n",
    "    event = ev\n",
    "    subscription_check[\"last date \"+event] = subscription_check.apply(last_event_activity, axis=1)\n",
    "    subscription_check[\"2 days had not passed\"+ event] = subscription_check.apply(event_difference_less_than_2_days, axis=1)"
   ]
  },
  {
   "cell_type": "code",
   "execution_count": 96,
   "id": "1f55373c",
   "metadata": {},
   "outputs": [],
   "source": [
    "#subscription_check = subscription_check.drop_duplicates(subset = [\"userid\"])\n",
    "#renew_check = renew_check.drop_duplicates(subset = [\"userid\"])"
   ]
  },
  {
   "cell_type": "code",
   "execution_count": null,
   "id": "9292a87b",
   "metadata": {},
   "outputs": [],
   "source": []
  },
  {
   "cell_type": "code",
   "execution_count": 97,
   "id": "ef1b7ff5",
   "metadata": {},
   "outputs": [
    {
     "name": "stdout",
     "output_type": "stream",
     "text": [
      "['Monthly']\n",
      "[0]\n"
     ]
    }
   ],
   "source": [
    "label_encoder = LabelEncoder()\n",
    "categories = [\"Membership YM\"]\n",
    "for category in categories:\n",
    "    print(subscription_check[category].unique())\n",
    "    subscription_check[category]=label_encoder.fit_transform(subscription_check[category])\n",
    "    renew_check[category]=label_encoder.fit_transform(renew_check[category])\n",
    "    print(subscription_check[category].unique())"
   ]
  },
  {
   "cell_type": "code",
   "execution_count": 98,
   "id": "fe79eab1",
   "metadata": {},
   "outputs": [],
   "source": [
    "renew_check = renew_check.drop(['Subscription Premium Renew'], axis = 1)\n",
    "subscription_check = subscription_check.drop(['Subscription Premium', \"Sign Up Success\"], axis = 1)"
   ]
  },
  {
   "cell_type": "code",
   "execution_count": 99,
   "id": "109204a6",
   "metadata": {},
   "outputs": [
    {
     "data": {
      "image/png": "[encoded data removed]",
      "text/plain": [
       "<Figure size 432x288 with 2 Axes>"
      ]
     },
     "metadata": {
      "needs_background": "light"
     },
     "output_type": "display_data"
    }
   ],
   "source": [
    "\n",
    "dataplot = sns.heatmap(renew_check.corr(), cmap=\"RdYlBu\", annot=True)\n",
    "plt.show()"
   ]
  },
  {
   "cell_type": "code",
   "execution_count": 100,
   "id": "85b80032",
   "metadata": {},
   "outputs": [
    {
     "data": {
      "image/png": "[encoded data removed]",
      "text/plain": [
       "<Figure size 432x288 with 2 Axes>"
      ]
     },
     "metadata": {
      "needs_background": "light"
     },
     "output_type": "display_data"
    }
   ],
   "source": [
    "\n",
    "dataplot = sns.heatmap(subscription_check.corr(), cmap=\"RdYlBu\", annot=True)\n",
    "plt.show()"
   ]
  },
  {
   "cell_type": "code",
   "execution_count": null,
   "id": "3c45b947",
   "metadata": {},
   "outputs": [],
   "source": []
  },
  {
   "cell_type": "code",
   "execution_count": 102,
   "id": "6dc59e50",
   "metadata": {},
   "outputs": [],
   "source": [
    "subscription_check.to_csv(\"csv//subscription_check.csv\")"
   ]
  },
  {
   "cell_type": "code",
   "execution_count": 103,
   "id": "b86a106c",
   "metadata": {},
   "outputs": [],
   "source": [
    "renew_check.to_csv(\"csv//renew_check.csv\")"
   ]
  },
  {
   "cell_type": "code",
   "execution_count": null,
   "id": "2a71290b",
   "metadata": {},
   "outputs": [],
   "source": [
    "df_ultimate = "
   ]
  }
 ],
 "metadata": {
  "kernelspec": {
   "display_name": "Python 3 (ipykernel)",
   "language": "python",
   "name": "python3"
  },
  "language_info": {
   "codemirror_mode": {
    "name": "ipython",
    "version": 3
   },
   "file_extension": ".py",
   "mimetype": "text/x-python",
   "name": "python",
   "nbconvert_exporter": "python",
   "pygments_lexer": "ipython3",
   "version": "3.9.12"
  }
 },
 "nbformat": 4,
 "nbformat_minor": 5
}
