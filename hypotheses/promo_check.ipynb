{
 "cells": [
  {
   "cell_type": "code",
   "execution_count": 1,
   "metadata": {
    "collapsed": true
   },
   "outputs": [],
   "source": [
    "import pandas as pd\n",
    "import seaborn as sns\n",
    "import matplotlib.pyplot as plt\n",
    "import numpy as np"
   ]
  },
  {
   "cell_type": "code",
   "execution_count": 2,
   "outputs": [],
   "source": [
    "input_file = '../data/sorted_filled_data_cancel.pkl'"
   ],
   "metadata": {
    "collapsed": false
   }
  },
  {
   "cell_type": "code",
   "execution_count": 3,
   "outputs": [
    {
     "data": {
      "text/plain": "                             userid user_state  \\\n0  0006869712ec9841dc36234bce245203         MD   \n1  0006869712ec9841dc36234bce245203         MD   \n2  0006869712ec9841dc36234bce245203         MD   \n3  0006869712ec9841dc36234bce245203         MD   \n4  0006869712ec9841dc36234bce245203         MD   \n\n                            event_name  \\\n0           Add Payment Method Success   \n1                 Subscription Premium   \n2  Account History Transaction Details   \n3  Account History Transaction Details   \n4                  Add Vehicle Success   \n\n                                    event_attributes   event_created_date  \\\n0      {\"Payment Method\":\"Debit\",\"Tokenized Pay\":\"\"}  2022-01-19 18:47:45   \n1  {\"Start Date\":\"2022-01-19\",\"Renewal Date\":\"202...  2022-01-19 18:48:01   \n2  {\"Navigated From\":\"Account History\",\"Status\":\"...  2022-01-19 18:48:08   \n3  {\"Navigated From\":\"Account History\",\"Status\":\"...  2022-01-19 18:48:44   \n4  {\"Make\":\"Chevrolet\",\"Model\":\"Express 3500\",\"Co...  2022-01-19 18:50:34   \n\n  event_platform device_manufacture device_model  Subscription Premium Cancel  \n0        android            samsung     SM-A716U                            0  \n1        android            samsung     SM-A716U                            0  \n2        android            samsung     SM-A716U                            0  \n3        android            samsung     SM-A716U                            0  \n4        android            samsung     SM-A716U                            0  ",
      "text/html": "<div>\n<style scoped>\n    .dataframe tbody tr th:only-of-type {\n        vertical-align: middle;\n    }\n\n    .dataframe tbody tr th {\n        vertical-align: top;\n    }\n\n    .dataframe thead th {\n        text-align: right;\n    }\n</style>\n<table border=\"1\" class=\"dataframe\">\n  <thead>\n    <tr style=\"text-align: right;\">\n      <th></th>\n      <th>userid</th>\n      <th>user_state</th>\n      <th>event_name</th>\n      <th>event_attributes</th>\n      <th>event_created_date</th>\n      <th>event_platform</th>\n      <th>device_manufacture</th>\n      <th>device_model</th>\n      <th>Subscription Premium Cancel</th>\n    </tr>\n  </thead>\n  <tbody>\n    <tr>\n      <th>0</th>\n      <td>0006869712ec9841dc36234bce245203</td>\n      <td>MD</td>\n      <td>Add Payment Method Success</td>\n      <td>{\"Payment Method\":\"Debit\",\"Tokenized Pay\":\"\"}</td>\n      <td>2022-01-19 18:47:45</td>\n      <td>android</td>\n      <td>samsung</td>\n      <td>SM-A716U</td>\n      <td>0</td>\n    </tr>\n    <tr>\n      <th>1</th>\n      <td>0006869712ec9841dc36234bce245203</td>\n      <td>MD</td>\n      <td>Subscription Premium</td>\n      <td>{\"Start Date\":\"2022-01-19\",\"Renewal Date\":\"202...</td>\n      <td>2022-01-19 18:48:01</td>\n      <td>android</td>\n      <td>samsung</td>\n      <td>SM-A716U</td>\n      <td>0</td>\n    </tr>\n    <tr>\n      <th>2</th>\n      <td>0006869712ec9841dc36234bce245203</td>\n      <td>MD</td>\n      <td>Account History Transaction Details</td>\n      <td>{\"Navigated From\":\"Account History\",\"Status\":\"...</td>\n      <td>2022-01-19 18:48:08</td>\n      <td>android</td>\n      <td>samsung</td>\n      <td>SM-A716U</td>\n      <td>0</td>\n    </tr>\n    <tr>\n      <th>3</th>\n      <td>0006869712ec9841dc36234bce245203</td>\n      <td>MD</td>\n      <td>Account History Transaction Details</td>\n      <td>{\"Navigated From\":\"Account History\",\"Status\":\"...</td>\n      <td>2022-01-19 18:48:44</td>\n      <td>android</td>\n      <td>samsung</td>\n      <td>SM-A716U</td>\n      <td>0</td>\n    </tr>\n    <tr>\n      <th>4</th>\n      <td>0006869712ec9841dc36234bce245203</td>\n      <td>MD</td>\n      <td>Add Vehicle Success</td>\n      <td>{\"Make\":\"Chevrolet\",\"Model\":\"Express 3500\",\"Co...</td>\n      <td>2022-01-19 18:50:34</td>\n      <td>android</td>\n      <td>samsung</td>\n      <td>SM-A716U</td>\n      <td>0</td>\n    </tr>\n  </tbody>\n</table>\n</div>"
     },
     "execution_count": 3,
     "metadata": {},
     "output_type": "execute_result"
    }
   ],
   "source": [
    "df = pd.read_pickle(input_file)\n",
    "df = df.drop(columns=df.columns[0])\n",
    "df.head()"
   ],
   "metadata": {
    "collapsed": false
   }
  },
  {
   "cell_type": "code",
   "execution_count": 4,
   "outputs": [
    {
     "data": {
      "text/plain": "                             userid user_state  \\\n0  0006869712ec9841dc36234bce245203         MD   \n1  0006869712ec9841dc36234bce245203         MD   \n2  0006869712ec9841dc36234bce245203         MD   \n3  0006869712ec9841dc36234bce245203         MD   \n4  0006869712ec9841dc36234bce245203         MD   \n\n                            event_name   event_created_date event_platform  \\\n0           Add Payment Method Success  2022-01-19 18:47:45        android   \n1                 Subscription Premium  2022-01-19 18:48:01        android   \n2  Account History Transaction Details  2022-01-19 18:48:08        android   \n3  Account History Transaction Details  2022-01-19 18:48:44        android   \n4                  Add Vehicle Success  2022-01-19 18:50:34        android   \n\n  device_manufacture device_model  Subscription Premium Cancel Payment Method  \\\n0            samsung     SM-A716U                            0          Debit   \n1            samsung     SM-A716U                            0            NaN   \n2            samsung     SM-A716U                            0            NaN   \n3            samsung     SM-A716U                            0            NaN   \n4            samsung     SM-A716U                            0            NaN   \n\n  Tokenized Pay  ... Error Code Error Message Screen Transaction type   Id  \\\n0                ...        NaN           NaN    NaN              NaN  NaN   \n1           NaN  ...        NaN           NaN    NaN              NaN  NaN   \n2           NaN  ...        NaN           NaN    NaN              NaN  NaN   \n3           NaN  ...        NaN           NaN    NaN              NaN  NaN   \n4           NaN  ...        NaN           NaN    NaN              NaN  NaN   \n\n  Amount Description Google Map Installed Selected Route Type Transaction Type  \n0    NaN         NaN                  NaN                 NaN              NaN  \n1    NaN         NaN                  NaN                 NaN              NaN  \n2    NaN         NaN                  NaN                 NaN              NaN  \n3    NaN         NaN                  NaN                 NaN              NaN  \n4    NaN         NaN                  NaN                 NaN              NaN  \n\n[5 rows x 39 columns]",
      "text/html": "<div>\n<style scoped>\n    .dataframe tbody tr th:only-of-type {\n        vertical-align: middle;\n    }\n\n    .dataframe tbody tr th {\n        vertical-align: top;\n    }\n\n    .dataframe thead th {\n        text-align: right;\n    }\n</style>\n<table border=\"1\" class=\"dataframe\">\n  <thead>\n    <tr style=\"text-align: right;\">\n      <th></th>\n      <th>userid</th>\n      <th>user_state</th>\n      <th>event_name</th>\n      <th>event_created_date</th>\n      <th>event_platform</th>\n      <th>device_manufacture</th>\n      <th>device_model</th>\n      <th>Subscription Premium Cancel</th>\n      <th>Payment Method</th>\n      <th>Tokenized Pay</th>\n      <th>...</th>\n      <th>Error Code</th>\n      <th>Error Message</th>\n      <th>Screen</th>\n      <th>Transaction type</th>\n      <th>Id</th>\n      <th>Amount</th>\n      <th>Description</th>\n      <th>Google Map Installed</th>\n      <th>Selected Route Type</th>\n      <th>Transaction Type</th>\n    </tr>\n  </thead>\n  <tbody>\n    <tr>\n      <th>0</th>\n      <td>0006869712ec9841dc36234bce245203</td>\n      <td>MD</td>\n      <td>Add Payment Method Success</td>\n      <td>2022-01-19 18:47:45</td>\n      <td>android</td>\n      <td>samsung</td>\n      <td>SM-A716U</td>\n      <td>0</td>\n      <td>Debit</td>\n      <td></td>\n      <td>...</td>\n      <td>NaN</td>\n      <td>NaN</td>\n      <td>NaN</td>\n      <td>NaN</td>\n      <td>NaN</td>\n      <td>NaN</td>\n      <td>NaN</td>\n      <td>NaN</td>\n      <td>NaN</td>\n      <td>NaN</td>\n    </tr>\n    <tr>\n      <th>1</th>\n      <td>0006869712ec9841dc36234bce245203</td>\n      <td>MD</td>\n      <td>Subscription Premium</td>\n      <td>2022-01-19 18:48:01</td>\n      <td>android</td>\n      <td>samsung</td>\n      <td>SM-A716U</td>\n      <td>0</td>\n      <td>NaN</td>\n      <td>NaN</td>\n      <td>...</td>\n      <td>NaN</td>\n      <td>NaN</td>\n      <td>NaN</td>\n      <td>NaN</td>\n      <td>NaN</td>\n      <td>NaN</td>\n      <td>NaN</td>\n      <td>NaN</td>\n      <td>NaN</td>\n      <td>NaN</td>\n    </tr>\n    <tr>\n      <th>2</th>\n      <td>0006869712ec9841dc36234bce245203</td>\n      <td>MD</td>\n      <td>Account History Transaction Details</td>\n      <td>2022-01-19 18:48:08</td>\n      <td>android</td>\n      <td>samsung</td>\n      <td>SM-A716U</td>\n      <td>0</td>\n      <td>NaN</td>\n      <td>NaN</td>\n      <td>...</td>\n      <td>NaN</td>\n      <td>NaN</td>\n      <td>NaN</td>\n      <td>NaN</td>\n      <td>NaN</td>\n      <td>NaN</td>\n      <td>NaN</td>\n      <td>NaN</td>\n      <td>NaN</td>\n      <td>NaN</td>\n    </tr>\n    <tr>\n      <th>3</th>\n      <td>0006869712ec9841dc36234bce245203</td>\n      <td>MD</td>\n      <td>Account History Transaction Details</td>\n      <td>2022-01-19 18:48:44</td>\n      <td>android</td>\n      <td>samsung</td>\n      <td>SM-A716U</td>\n      <td>0</td>\n      <td>NaN</td>\n      <td>NaN</td>\n      <td>...</td>\n      <td>NaN</td>\n      <td>NaN</td>\n      <td>NaN</td>\n      <td>NaN</td>\n      <td>NaN</td>\n      <td>NaN</td>\n      <td>NaN</td>\n      <td>NaN</td>\n      <td>NaN</td>\n      <td>NaN</td>\n    </tr>\n    <tr>\n      <th>4</th>\n      <td>0006869712ec9841dc36234bce245203</td>\n      <td>MD</td>\n      <td>Add Vehicle Success</td>\n      <td>2022-01-19 18:50:34</td>\n      <td>android</td>\n      <td>samsung</td>\n      <td>SM-A716U</td>\n      <td>0</td>\n      <td>NaN</td>\n      <td>NaN</td>\n      <td>...</td>\n      <td>NaN</td>\n      <td>NaN</td>\n      <td>NaN</td>\n      <td>NaN</td>\n      <td>NaN</td>\n      <td>NaN</td>\n      <td>NaN</td>\n      <td>NaN</td>\n      <td>NaN</td>\n      <td>NaN</td>\n    </tr>\n  </tbody>\n</table>\n<p>5 rows × 39 columns</p>\n</div>"
     },
     "execution_count": 4,
     "metadata": {},
     "output_type": "execute_result"
    }
   ],
   "source": [
    "import json\n",
    "\n",
    "df['event_attributes'] = df['event_attributes'].apply(json.loads)\n",
    "\n",
    "event_attributes = df['event_attributes'].to_list()\n",
    "event_attributes_df = pd.DataFrame(event_attributes)\n",
    "\n",
    "enriched_df = df.join(event_attributes_df)\n",
    "enriched_df = enriched_df.drop(columns='event_attributes')\n",
    "\n",
    "enriched_df.head()"
   ],
   "metadata": {
    "collapsed": false
   }
  },
  {
   "cell_type": "code",
   "execution_count": 10,
   "outputs": [
    {
     "data": {
      "text/plain": "array([nan, '', 'GRIDWISE', 'TST2022', 'LUCKYDAY', 'INFLUENCER2021',\n       'VEHICLEVIRGINS'], dtype=object)"
     },
     "execution_count": 10,
     "metadata": {},
     "output_type": "execute_result"
    }
   ],
   "source": [
    "enriched_df['Promo code'].unique()"
   ],
   "metadata": {
    "collapsed": false
   }
  },
  {
   "cell_type": "code",
   "execution_count": 11,
   "outputs": [],
   "source": [
    "enriched_df['Promo code used'] = enriched_df.apply(lambda row: row['Promo code'] in ['GRIDWISE', 'TST2022', 'LUCKYDAY', 'INFLUENCER2021', 'VEHICLEVIRGINS'], axis=1)"
   ],
   "metadata": {
    "collapsed": false
   }
  },
  {
   "cell_type": "code",
   "execution_count": 17,
   "outputs": [
    {
     "data": {
      "text/plain": "                                 userid user_state  \\\n140    06a9a92ef0a123b93e3410d8a57d5b6c         IN   \n1203   13d8a03074dd4502c5acb82fc65e2b33         CA   \n2164   21e28f6337ff700d41ee87a1b244ca78         FL   \n3549   3ddccd890467c76dd9886a40dbd51800         NH   \n3926   4383288d6bab753c11fc2f4ea43b1eb8         CA   \n4291   494d52061c082cec80e62b80d0042d72         CA   \n4292   494d52061c082cec80e62b80d0042d72         CA   \n4293   494d52061c082cec80e62b80d0042d72         CA   \n6240   67e44c02222349a4e5aff1233d06b8ce         NJ   \n6258   67e44c02222349a4e5aff1233d06b8ce         NJ   \n6260   67e44c02222349a4e5aff1233d06b8ce         NJ   \n10069  a278d265aed003fd5b195de3ae6140f4         TX   \n14665  fd4a11b9abba7352308fabf80c122501         CA   \n\n                       event_name   event_created_date event_platform  \\\n140    Add Payment Method Success  2022-03-24 18:01:33        android   \n1203   Add Payment Method Success  2022-02-23 17:50:31        android   \n2164   Add Payment Method Success  2022-03-30 14:08:40            ios   \n3549   Add Payment Method Success  2022-02-25 00:13:40            ios   \n3926   Add Payment Method Success  2022-03-18 19:51:54            ios   \n4291   Add Payment Method Success  2022-03-04 22:32:57            ios   \n4292   Add Payment Method Success  2022-03-04 22:33:41            ios   \n4293   Add Payment Method Success  2022-03-04 22:35:17            ios   \n6240   Add Payment Method Success  2022-04-06 12:13:39            ios   \n6258   Add Payment Method Success  2022-04-15 19:06:20            ios   \n6260   Add Payment Method Success  2022-04-16 01:41:36            ios   \n10069  Add Payment Method Success  2022-03-15 16:05:38            ios   \n14665  Add Payment Method Success  2022-03-30 00:15:59            ios   \n\n      device_manufacture   device_model  Subscription Premium Cancel  \\\n140             motorola  moto g stylus                            0   \n1203              Google        Pixel 5                            1   \n2164               Apple     iPhone14,4                            0   \n3549               Apple     iPhone12,1                            0   \n3926               Apple     iPhone14,3                            0   \n4291               Apple     iPhone14,3                            0   \n4292               Apple     iPhone14,3                            0   \n4293               Apple     iPhone14,3                            0   \n6240               Apple     iPhone12,1                            0   \n6258               Apple     iPhone12,1                            0   \n6260               Apple     iPhone12,1                            0   \n10069              Apple     iPhone13,4                            1   \n14665              Apple     iPhone12,5                            0   \n\n      Payment Method Tokenized Pay  ... Error Message Screen Transaction type  \\\n140            Debit                ...           NaN    NaN              NaN   \n1203          PayPal                ...           NaN    NaN              NaN   \n2164          Credit     Apple Pay  ...           NaN    NaN              NaN   \n3549           Debit           NaN  ...           NaN    NaN              NaN   \n3926           Debit     Apple Pay  ...           NaN    NaN              NaN   \n4291          PayPal           NaN  ...           NaN    NaN              NaN   \n4292           Venmo           NaN  ...           NaN    NaN              NaN   \n4293           Debit           NaN  ...           NaN    NaN              NaN   \n6240           Debit     Apple Pay  ...           NaN    NaN              NaN   \n6258           Debit     Apple Pay  ...           NaN    NaN              NaN   \n6260           Debit     Apple Pay  ...           NaN    NaN              NaN   \n10069         Credit     Apple Pay  ...           NaN    NaN              NaN   \n14665         Credit     Apple Pay  ...           NaN    NaN              NaN   \n\n        Id Amount Description Google Map Installed Selected Route Type  \\\n140    NaN    NaN         NaN                  NaN                 NaN   \n1203   NaN    NaN         NaN                  NaN                 NaN   \n2164   NaN    NaN         NaN                  NaN                 NaN   \n3549   NaN    NaN         NaN                  NaN                 NaN   \n3926   NaN    NaN         NaN                  NaN                 NaN   \n4291   NaN    NaN         NaN                  NaN                 NaN   \n4292   NaN    NaN         NaN                  NaN                 NaN   \n4293   NaN    NaN         NaN                  NaN                 NaN   \n6240   NaN    NaN         NaN                  NaN                 NaN   \n6258   NaN    NaN         NaN                  NaN                 NaN   \n6260   NaN    NaN         NaN                  NaN                 NaN   \n10069  NaN    NaN         NaN                  NaN                 NaN   \n14665  NaN    NaN         NaN                  NaN                 NaN   \n\n      Transaction Type Promo code used  \n140                NaN            True  \n1203               NaN            True  \n2164               NaN            True  \n3549               NaN            True  \n3926               NaN            True  \n4291               NaN            True  \n4292               NaN            True  \n4293               NaN            True  \n6240               NaN            True  \n6258               NaN            True  \n6260               NaN            True  \n10069              NaN            True  \n14665              NaN            True  \n\n[13 rows x 40 columns]",
      "text/html": "<div>\n<style scoped>\n    .dataframe tbody tr th:only-of-type {\n        vertical-align: middle;\n    }\n\n    .dataframe tbody tr th {\n        vertical-align: top;\n    }\n\n    .dataframe thead th {\n        text-align: right;\n    }\n</style>\n<table border=\"1\" class=\"dataframe\">\n  <thead>\n    <tr style=\"text-align: right;\">\n      <th></th>\n      <th>userid</th>\n      <th>user_state</th>\n      <th>event_name</th>\n      <th>event_created_date</th>\n      <th>event_platform</th>\n      <th>device_manufacture</th>\n      <th>device_model</th>\n      <th>Subscription Premium Cancel</th>\n      <th>Payment Method</th>\n      <th>Tokenized Pay</th>\n      <th>...</th>\n      <th>Error Message</th>\n      <th>Screen</th>\n      <th>Transaction type</th>\n      <th>Id</th>\n      <th>Amount</th>\n      <th>Description</th>\n      <th>Google Map Installed</th>\n      <th>Selected Route Type</th>\n      <th>Transaction Type</th>\n      <th>Promo code used</th>\n    </tr>\n  </thead>\n  <tbody>\n    <tr>\n      <th>140</th>\n      <td>06a9a92ef0a123b93e3410d8a57d5b6c</td>\n      <td>IN</td>\n      <td>Add Payment Method Success</td>\n      <td>2022-03-24 18:01:33</td>\n      <td>android</td>\n      <td>motorola</td>\n      <td>moto g stylus</td>\n      <td>0</td>\n      <td>Debit</td>\n      <td></td>\n      <td>...</td>\n      <td>NaN</td>\n      <td>NaN</td>\n      <td>NaN</td>\n      <td>NaN</td>\n      <td>NaN</td>\n      <td>NaN</td>\n      <td>NaN</td>\n      <td>NaN</td>\n      <td>NaN</td>\n      <td>True</td>\n    </tr>\n    <tr>\n      <th>1203</th>\n      <td>13d8a03074dd4502c5acb82fc65e2b33</td>\n      <td>CA</td>\n      <td>Add Payment Method Success</td>\n      <td>2022-02-23 17:50:31</td>\n      <td>android</td>\n      <td>Google</td>\n      <td>Pixel 5</td>\n      <td>1</td>\n      <td>PayPal</td>\n      <td></td>\n      <td>...</td>\n      <td>NaN</td>\n      <td>NaN</td>\n      <td>NaN</td>\n      <td>NaN</td>\n      <td>NaN</td>\n      <td>NaN</td>\n      <td>NaN</td>\n      <td>NaN</td>\n      <td>NaN</td>\n      <td>True</td>\n    </tr>\n    <tr>\n      <th>2164</th>\n      <td>21e28f6337ff700d41ee87a1b244ca78</td>\n      <td>FL</td>\n      <td>Add Payment Method Success</td>\n      <td>2022-03-30 14:08:40</td>\n      <td>ios</td>\n      <td>Apple</td>\n      <td>iPhone14,4</td>\n      <td>0</td>\n      <td>Credit</td>\n      <td>Apple Pay</td>\n      <td>...</td>\n      <td>NaN</td>\n      <td>NaN</td>\n      <td>NaN</td>\n      <td>NaN</td>\n      <td>NaN</td>\n      <td>NaN</td>\n      <td>NaN</td>\n      <td>NaN</td>\n      <td>NaN</td>\n      <td>True</td>\n    </tr>\n    <tr>\n      <th>3549</th>\n      <td>3ddccd890467c76dd9886a40dbd51800</td>\n      <td>NH</td>\n      <td>Add Payment Method Success</td>\n      <td>2022-02-25 00:13:40</td>\n      <td>ios</td>\n      <td>Apple</td>\n      <td>iPhone12,1</td>\n      <td>0</td>\n      <td>Debit</td>\n      <td>NaN</td>\n      <td>...</td>\n      <td>NaN</td>\n      <td>NaN</td>\n      <td>NaN</td>\n      <td>NaN</td>\n      <td>NaN</td>\n      <td>NaN</td>\n      <td>NaN</td>\n      <td>NaN</td>\n      <td>NaN</td>\n      <td>True</td>\n    </tr>\n    <tr>\n      <th>3926</th>\n      <td>4383288d6bab753c11fc2f4ea43b1eb8</td>\n      <td>CA</td>\n      <td>Add Payment Method Success</td>\n      <td>2022-03-18 19:51:54</td>\n      <td>ios</td>\n      <td>Apple</td>\n      <td>iPhone14,3</td>\n      <td>0</td>\n      <td>Debit</td>\n      <td>Apple Pay</td>\n      <td>...</td>\n      <td>NaN</td>\n      <td>NaN</td>\n      <td>NaN</td>\n      <td>NaN</td>\n      <td>NaN</td>\n      <td>NaN</td>\n      <td>NaN</td>\n      <td>NaN</td>\n      <td>NaN</td>\n      <td>True</td>\n    </tr>\n    <tr>\n      <th>4291</th>\n      <td>494d52061c082cec80e62b80d0042d72</td>\n      <td>CA</td>\n      <td>Add Payment Method Success</td>\n      <td>2022-03-04 22:32:57</td>\n      <td>ios</td>\n      <td>Apple</td>\n      <td>iPhone14,3</td>\n      <td>0</td>\n      <td>PayPal</td>\n      <td>NaN</td>\n      <td>...</td>\n      <td>NaN</td>\n      <td>NaN</td>\n      <td>NaN</td>\n      <td>NaN</td>\n      <td>NaN</td>\n      <td>NaN</td>\n      <td>NaN</td>\n      <td>NaN</td>\n      <td>NaN</td>\n      <td>True</td>\n    </tr>\n    <tr>\n      <th>4292</th>\n      <td>494d52061c082cec80e62b80d0042d72</td>\n      <td>CA</td>\n      <td>Add Payment Method Success</td>\n      <td>2022-03-04 22:33:41</td>\n      <td>ios</td>\n      <td>Apple</td>\n      <td>iPhone14,3</td>\n      <td>0</td>\n      <td>Venmo</td>\n      <td>NaN</td>\n      <td>...</td>\n      <td>NaN</td>\n      <td>NaN</td>\n      <td>NaN</td>\n      <td>NaN</td>\n      <td>NaN</td>\n      <td>NaN</td>\n      <td>NaN</td>\n      <td>NaN</td>\n      <td>NaN</td>\n      <td>True</td>\n    </tr>\n    <tr>\n      <th>4293</th>\n      <td>494d52061c082cec80e62b80d0042d72</td>\n      <td>CA</td>\n      <td>Add Payment Method Success</td>\n      <td>2022-03-04 22:35:17</td>\n      <td>ios</td>\n      <td>Apple</td>\n      <td>iPhone14,3</td>\n      <td>0</td>\n      <td>Debit</td>\n      <td>NaN</td>\n      <td>...</td>\n      <td>NaN</td>\n      <td>NaN</td>\n      <td>NaN</td>\n      <td>NaN</td>\n      <td>NaN</td>\n      <td>NaN</td>\n      <td>NaN</td>\n      <td>NaN</td>\n      <td>NaN</td>\n      <td>True</td>\n    </tr>\n    <tr>\n      <th>6240</th>\n      <td>67e44c02222349a4e5aff1233d06b8ce</td>\n      <td>NJ</td>\n      <td>Add Payment Method Success</td>\n      <td>2022-04-06 12:13:39</td>\n      <td>ios</td>\n      <td>Apple</td>\n      <td>iPhone12,1</td>\n      <td>0</td>\n      <td>Debit</td>\n      <td>Apple Pay</td>\n      <td>...</td>\n      <td>NaN</td>\n      <td>NaN</td>\n      <td>NaN</td>\n      <td>NaN</td>\n      <td>NaN</td>\n      <td>NaN</td>\n      <td>NaN</td>\n      <td>NaN</td>\n      <td>NaN</td>\n      <td>True</td>\n    </tr>\n    <tr>\n      <th>6258</th>\n      <td>67e44c02222349a4e5aff1233d06b8ce</td>\n      <td>NJ</td>\n      <td>Add Payment Method Success</td>\n      <td>2022-04-15 19:06:20</td>\n      <td>ios</td>\n      <td>Apple</td>\n      <td>iPhone12,1</td>\n      <td>0</td>\n      <td>Debit</td>\n      <td>Apple Pay</td>\n      <td>...</td>\n      <td>NaN</td>\n      <td>NaN</td>\n      <td>NaN</td>\n      <td>NaN</td>\n      <td>NaN</td>\n      <td>NaN</td>\n      <td>NaN</td>\n      <td>NaN</td>\n      <td>NaN</td>\n      <td>True</td>\n    </tr>\n    <tr>\n      <th>6260</th>\n      <td>67e44c02222349a4e5aff1233d06b8ce</td>\n      <td>NJ</td>\n      <td>Add Payment Method Success</td>\n      <td>2022-04-16 01:41:36</td>\n      <td>ios</td>\n      <td>Apple</td>\n      <td>iPhone12,1</td>\n      <td>0</td>\n      <td>Debit</td>\n      <td>Apple Pay</td>\n      <td>...</td>\n      <td>NaN</td>\n      <td>NaN</td>\n      <td>NaN</td>\n      <td>NaN</td>\n      <td>NaN</td>\n      <td>NaN</td>\n      <td>NaN</td>\n      <td>NaN</td>\n      <td>NaN</td>\n      <td>True</td>\n    </tr>\n    <tr>\n      <th>10069</th>\n      <td>a278d265aed003fd5b195de3ae6140f4</td>\n      <td>TX</td>\n      <td>Add Payment Method Success</td>\n      <td>2022-03-15 16:05:38</td>\n      <td>ios</td>\n      <td>Apple</td>\n      <td>iPhone13,4</td>\n      <td>1</td>\n      <td>Credit</td>\n      <td>Apple Pay</td>\n      <td>...</td>\n      <td>NaN</td>\n      <td>NaN</td>\n      <td>NaN</td>\n      <td>NaN</td>\n      <td>NaN</td>\n      <td>NaN</td>\n      <td>NaN</td>\n      <td>NaN</td>\n      <td>NaN</td>\n      <td>True</td>\n    </tr>\n    <tr>\n      <th>14665</th>\n      <td>fd4a11b9abba7352308fabf80c122501</td>\n      <td>CA</td>\n      <td>Add Payment Method Success</td>\n      <td>2022-03-30 00:15:59</td>\n      <td>ios</td>\n      <td>Apple</td>\n      <td>iPhone12,5</td>\n      <td>0</td>\n      <td>Credit</td>\n      <td>Apple Pay</td>\n      <td>...</td>\n      <td>NaN</td>\n      <td>NaN</td>\n      <td>NaN</td>\n      <td>NaN</td>\n      <td>NaN</td>\n      <td>NaN</td>\n      <td>NaN</td>\n      <td>NaN</td>\n      <td>NaN</td>\n      <td>True</td>\n    </tr>\n  </tbody>\n</table>\n<p>13 rows × 40 columns</p>\n</div>"
     },
     "execution_count": 17,
     "metadata": {},
     "output_type": "execute_result"
    }
   ],
   "source": [
    "enriched_df.loc[enriched_df['Promo code used']]"
   ],
   "metadata": {
    "collapsed": false
   }
  },
  {
   "cell_type": "code",
   "execution_count": 18,
   "outputs": [],
   "source": [
    "enriched_df.to_pickle('../data/promo_code_used.pkl')"
   ],
   "metadata": {
    "collapsed": false
   }
  },
  {
   "cell_type": "code",
   "execution_count": null,
   "outputs": [],
   "source": [],
   "metadata": {
    "collapsed": false
   }
  }
 ],
 "metadata": {
  "kernelspec": {
   "display_name": "Python 3",
   "language": "python",
   "name": "python3"
  },
  "language_info": {
   "codemirror_mode": {
    "name": "ipython",
    "version": 2
   },
   "file_extension": ".py",
   "mimetype": "text/x-python",
   "name": "python",
   "nbconvert_exporter": "python",
   "pygments_lexer": "ipython2",
   "version": "2.7.6"
  }
 },
 "nbformat": 4,
 "nbformat_minor": 0
}
