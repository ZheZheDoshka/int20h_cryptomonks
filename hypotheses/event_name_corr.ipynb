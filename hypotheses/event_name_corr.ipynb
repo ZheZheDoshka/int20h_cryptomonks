{
 "cells": [
  {
   "cell_type": "code",
   "execution_count": 1,
   "metadata": {
    "collapsed": true
   },
   "outputs": [],
   "source": [
    "import pandas as pd\n",
    "import seaborn as sns\n",
    "import matplotlib.pyplot as plt\n",
    "import numpy as np"
   ]
  },
  {
   "cell_type": "code",
   "execution_count": 2,
   "outputs": [],
   "source": [
    "input_file = 'data/sorted_filled_data_cancel.pkl'"
   ],
   "metadata": {
    "collapsed": false
   }
  },
  {
   "cell_type": "code",
   "execution_count": 3,
   "outputs": [
    {
     "data": {
      "text/plain": "                             userid user_state  \\\n0  0006869712ec9841dc36234bce245203         MD   \n1  0006869712ec9841dc36234bce245203         MD   \n2  0006869712ec9841dc36234bce245203         MD   \n3  0006869712ec9841dc36234bce245203         MD   \n4  0006869712ec9841dc36234bce245203         MD   \n\n                            event_name  \\\n0           Add Payment Method Success   \n1                 Subscription Premium   \n2  Account History Transaction Details   \n3  Account History Transaction Details   \n4                  Add Vehicle Success   \n\n                                    event_attributes   event_created_date  \\\n0      {\"Payment Method\":\"Debit\",\"Tokenized Pay\":\"\"}  2022-01-19 18:47:45   \n1  {\"Start Date\":\"2022-01-19\",\"Renewal Date\":\"202...  2022-01-19 18:48:01   \n2  {\"Navigated From\":\"Account History\",\"Status\":\"...  2022-01-19 18:48:08   \n3  {\"Navigated From\":\"Account History\",\"Status\":\"...  2022-01-19 18:48:44   \n4  {\"Make\":\"Chevrolet\",\"Model\":\"Express 3500\",\"Co...  2022-01-19 18:50:34   \n\n  event_platform device_manufacture device_model  Subscription Premium Cancel  \n0        android            samsung     SM-A716U                            0  \n1        android            samsung     SM-A716U                            0  \n2        android            samsung     SM-A716U                            0  \n3        android            samsung     SM-A716U                            0  \n4        android            samsung     SM-A716U                            0  ",
      "text/html": "<div>\n<style scoped>\n    .dataframe tbody tr th:only-of-type {\n        vertical-align: middle;\n    }\n\n    .dataframe tbody tr th {\n        vertical-align: top;\n    }\n\n    .dataframe thead th {\n        text-align: right;\n    }\n</style>\n<table border=\"1\" class=\"dataframe\">\n  <thead>\n    <tr style=\"text-align: right;\">\n      <th></th>\n      <th>userid</th>\n      <th>user_state</th>\n      <th>event_name</th>\n      <th>event_attributes</th>\n      <th>event_created_date</th>\n      <th>event_platform</th>\n      <th>device_manufacture</th>\n      <th>device_model</th>\n      <th>Subscription Premium Cancel</th>\n    </tr>\n  </thead>\n  <tbody>\n    <tr>\n      <th>0</th>\n      <td>0006869712ec9841dc36234bce245203</td>\n      <td>MD</td>\n      <td>Add Payment Method Success</td>\n      <td>{\"Payment Method\":\"Debit\",\"Tokenized Pay\":\"\"}</td>\n      <td>2022-01-19 18:47:45</td>\n      <td>android</td>\n      <td>samsung</td>\n      <td>SM-A716U</td>\n      <td>0</td>\n    </tr>\n    <tr>\n      <th>1</th>\n      <td>0006869712ec9841dc36234bce245203</td>\n      <td>MD</td>\n      <td>Subscription Premium</td>\n      <td>{\"Start Date\":\"2022-01-19\",\"Renewal Date\":\"202...</td>\n      <td>2022-01-19 18:48:01</td>\n      <td>android</td>\n      <td>samsung</td>\n      <td>SM-A716U</td>\n      <td>0</td>\n    </tr>\n    <tr>\n      <th>2</th>\n      <td>0006869712ec9841dc36234bce245203</td>\n      <td>MD</td>\n      <td>Account History Transaction Details</td>\n      <td>{\"Navigated From\":\"Account History\",\"Status\":\"...</td>\n      <td>2022-01-19 18:48:08</td>\n      <td>android</td>\n      <td>samsung</td>\n      <td>SM-A716U</td>\n      <td>0</td>\n    </tr>\n    <tr>\n      <th>3</th>\n      <td>0006869712ec9841dc36234bce245203</td>\n      <td>MD</td>\n      <td>Account History Transaction Details</td>\n      <td>{\"Navigated From\":\"Account History\",\"Status\":\"...</td>\n      <td>2022-01-19 18:48:44</td>\n      <td>android</td>\n      <td>samsung</td>\n      <td>SM-A716U</td>\n      <td>0</td>\n    </tr>\n    <tr>\n      <th>4</th>\n      <td>0006869712ec9841dc36234bce245203</td>\n      <td>MD</td>\n      <td>Add Vehicle Success</td>\n      <td>{\"Make\":\"Chevrolet\",\"Model\":\"Express 3500\",\"Co...</td>\n      <td>2022-01-19 18:50:34</td>\n      <td>android</td>\n      <td>samsung</td>\n      <td>SM-A716U</td>\n      <td>0</td>\n    </tr>\n  </tbody>\n</table>\n</div>"
     },
     "execution_count": 3,
     "metadata": {},
     "output_type": "execute_result"
    }
   ],
   "source": [
    "df = pd.read_pickle(input_file)\n",
    "df = df.drop(columns=df.columns[0])\n",
    "df.head()"
   ],
   "metadata": {
    "collapsed": false
   }
  },
  {
   "cell_type": "code",
   "execution_count": 4,
   "outputs": [
    {
     "data": {
      "text/plain": "                             userid user_state  \\\n0  0006869712ec9841dc36234bce245203         MD   \n1  0006869712ec9841dc36234bce245203         MD   \n2  0006869712ec9841dc36234bce245203         MD   \n3  0006869712ec9841dc36234bce245203         MD   \n4  0006869712ec9841dc36234bce245203         MD   \n\n                            event_name   event_created_date event_platform  \\\n0           Add Payment Method Success  2022-01-19 18:47:45        android   \n1                 Subscription Premium  2022-01-19 18:48:01        android   \n2  Account History Transaction Details  2022-01-19 18:48:08        android   \n3  Account History Transaction Details  2022-01-19 18:48:44        android   \n4                  Add Vehicle Success  2022-01-19 18:50:34        android   \n\n  device_manufacture device_model  Subscription Premium Cancel Payment Method  \\\n0            samsung     SM-A716U                            0          Debit   \n1            samsung     SM-A716U                            0            NaN   \n2            samsung     SM-A716U                            0            NaN   \n3            samsung     SM-A716U                            0            NaN   \n4            samsung     SM-A716U                            0            NaN   \n\n  Tokenized Pay  ... Error Code Error Message Screen Transaction type   Id  \\\n0                ...        NaN           NaN    NaN              NaN  NaN   \n1           NaN  ...        NaN           NaN    NaN              NaN  NaN   \n2           NaN  ...        NaN           NaN    NaN              NaN  NaN   \n3           NaN  ...        NaN           NaN    NaN              NaN  NaN   \n4           NaN  ...        NaN           NaN    NaN              NaN  NaN   \n\n  Amount Description Google Map Installed Selected Route Type Transaction Type  \n0    NaN         NaN                  NaN                 NaN              NaN  \n1    NaN         NaN                  NaN                 NaN              NaN  \n2    NaN         NaN                  NaN                 NaN              NaN  \n3    NaN         NaN                  NaN                 NaN              NaN  \n4    NaN         NaN                  NaN                 NaN              NaN  \n\n[5 rows x 39 columns]",
      "text/html": "<div>\n<style scoped>\n    .dataframe tbody tr th:only-of-type {\n        vertical-align: middle;\n    }\n\n    .dataframe tbody tr th {\n        vertical-align: top;\n    }\n\n    .dataframe thead th {\n        text-align: right;\n    }\n</style>\n<table border=\"1\" class=\"dataframe\">\n  <thead>\n    <tr style=\"text-align: right;\">\n      <th></th>\n      <th>userid</th>\n      <th>user_state</th>\n      <th>event_name</th>\n      <th>event_created_date</th>\n      <th>event_platform</th>\n      <th>device_manufacture</th>\n      <th>device_model</th>\n      <th>Subscription Premium Cancel</th>\n      <th>Payment Method</th>\n      <th>Tokenized Pay</th>\n      <th>...</th>\n      <th>Error Code</th>\n      <th>Error Message</th>\n      <th>Screen</th>\n      <th>Transaction type</th>\n      <th>Id</th>\n      <th>Amount</th>\n      <th>Description</th>\n      <th>Google Map Installed</th>\n      <th>Selected Route Type</th>\n      <th>Transaction Type</th>\n    </tr>\n  </thead>\n  <tbody>\n    <tr>\n      <th>0</th>\n      <td>0006869712ec9841dc36234bce245203</td>\n      <td>MD</td>\n      <td>Add Payment Method Success</td>\n      <td>2022-01-19 18:47:45</td>\n      <td>android</td>\n      <td>samsung</td>\n      <td>SM-A716U</td>\n      <td>0</td>\n      <td>Debit</td>\n      <td></td>\n      <td>...</td>\n      <td>NaN</td>\n      <td>NaN</td>\n      <td>NaN</td>\n      <td>NaN</td>\n      <td>NaN</td>\n      <td>NaN</td>\n      <td>NaN</td>\n      <td>NaN</td>\n      <td>NaN</td>\n      <td>NaN</td>\n    </tr>\n    <tr>\n      <th>1</th>\n      <td>0006869712ec9841dc36234bce245203</td>\n      <td>MD</td>\n      <td>Subscription Premium</td>\n      <td>2022-01-19 18:48:01</td>\n      <td>android</td>\n      <td>samsung</td>\n      <td>SM-A716U</td>\n      <td>0</td>\n      <td>NaN</td>\n      <td>NaN</td>\n      <td>...</td>\n      <td>NaN</td>\n      <td>NaN</td>\n      <td>NaN</td>\n      <td>NaN</td>\n      <td>NaN</td>\n      <td>NaN</td>\n      <td>NaN</td>\n      <td>NaN</td>\n      <td>NaN</td>\n      <td>NaN</td>\n    </tr>\n    <tr>\n      <th>2</th>\n      <td>0006869712ec9841dc36234bce245203</td>\n      <td>MD</td>\n      <td>Account History Transaction Details</td>\n      <td>2022-01-19 18:48:08</td>\n      <td>android</td>\n      <td>samsung</td>\n      <td>SM-A716U</td>\n      <td>0</td>\n      <td>NaN</td>\n      <td>NaN</td>\n      <td>...</td>\n      <td>NaN</td>\n      <td>NaN</td>\n      <td>NaN</td>\n      <td>NaN</td>\n      <td>NaN</td>\n      <td>NaN</td>\n      <td>NaN</td>\n      <td>NaN</td>\n      <td>NaN</td>\n      <td>NaN</td>\n    </tr>\n    <tr>\n      <th>3</th>\n      <td>0006869712ec9841dc36234bce245203</td>\n      <td>MD</td>\n      <td>Account History Transaction Details</td>\n      <td>2022-01-19 18:48:44</td>\n      <td>android</td>\n      <td>samsung</td>\n      <td>SM-A716U</td>\n      <td>0</td>\n      <td>NaN</td>\n      <td>NaN</td>\n      <td>...</td>\n      <td>NaN</td>\n      <td>NaN</td>\n      <td>NaN</td>\n      <td>NaN</td>\n      <td>NaN</td>\n      <td>NaN</td>\n      <td>NaN</td>\n      <td>NaN</td>\n      <td>NaN</td>\n      <td>NaN</td>\n    </tr>\n    <tr>\n      <th>4</th>\n      <td>0006869712ec9841dc36234bce245203</td>\n      <td>MD</td>\n      <td>Add Vehicle Success</td>\n      <td>2022-01-19 18:50:34</td>\n      <td>android</td>\n      <td>samsung</td>\n      <td>SM-A716U</td>\n      <td>0</td>\n      <td>NaN</td>\n      <td>NaN</td>\n      <td>...</td>\n      <td>NaN</td>\n      <td>NaN</td>\n      <td>NaN</td>\n      <td>NaN</td>\n      <td>NaN</td>\n      <td>NaN</td>\n      <td>NaN</td>\n      <td>NaN</td>\n      <td>NaN</td>\n      <td>NaN</td>\n    </tr>\n  </tbody>\n</table>\n<p>5 rows × 39 columns</p>\n</div>"
     },
     "execution_count": 4,
     "metadata": {},
     "output_type": "execute_result"
    }
   ],
   "source": [
    "import json\n",
    "\n",
    "df['event_attributes'] = df['event_attributes'].apply(json.loads)\n",
    "\n",
    "event_attributes = df['event_attributes'].to_list()\n",
    "event_attributes_df = pd.DataFrame(event_attributes)\n",
    "\n",
    "enriched_df = df.join(event_attributes_df)\n",
    "enriched_df = enriched_df.drop(columns='event_attributes')\n",
    "\n",
    "enriched_df.head()"
   ],
   "metadata": {
    "collapsed": false
   }
  },
  {
   "cell_type": "code",
   "execution_count": 16,
   "outputs": [
    {
     "data": {
      "text/plain": "userid\n0006869712ec9841dc36234bce245203    [Add Payment Method Success, Subscription Prem...\n00596aa4edee32815aaf4aad659c484e    [Sign Up Success, Add Vehicle Success, Add Pay...\n007b54670d72df309afd87befcbb63db    [Sign Up Success, Add Vehicle Success, Add Pay...\n0136a8eeca5d16ac1a521dd0e27ecec0    [Email Confirmation Success, Add Vehicle Succe...\n01529f53aaba5b512168d432d5650556    [Sign Up Success, Add Vehicle Break, Add Vehic...\nName: event_name, dtype: object"
     },
     "execution_count": 16,
     "metadata": {},
     "output_type": "execute_result"
    }
   ],
   "source": [
    "id__event_name = enriched_df.groupby('userid')['event_name'].apply(list)\n",
    "id__event_name.head()"
   ],
   "metadata": {
    "collapsed": false
   }
  },
  {
   "cell_type": "code",
   "execution_count": 17,
   "outputs": [
    {
     "data": {
      "text/plain": "userid\n0006869712ec9841dc36234bce245203    0\n00596aa4edee32815aaf4aad659c484e    0\n007b54670d72df309afd87befcbb63db    0\n0136a8eeca5d16ac1a521dd0e27ecec0    0\n01529f53aaba5b512168d432d5650556    0\nName: Subscription Premium Cancel, dtype: int64"
     },
     "execution_count": 17,
     "metadata": {},
     "output_type": "execute_result"
    }
   ],
   "source": [
    "id__cancel = enriched_df.groupby('userid')['Subscription Premium Cancel'].apply(max)\n",
    "id__cancel.head()"
   ],
   "metadata": {
    "collapsed": false
   }
  },
  {
   "cell_type": "code",
   "execution_count": 21,
   "outputs": [
    {
     "data": {
      "text/plain": "                                                                         event_name  \\\nuserid                                                                                \n0006869712ec9841dc36234bce245203  [Add Payment Method Success, Subscription Prem...   \n00596aa4edee32815aaf4aad659c484e  [Sign Up Success, Add Vehicle Success, Add Pay...   \n007b54670d72df309afd87befcbb63db  [Sign Up Success, Add Vehicle Success, Add Pay...   \n0136a8eeca5d16ac1a521dd0e27ecec0  [Email Confirmation Success, Add Vehicle Succe...   \n01529f53aaba5b512168d432d5650556  [Sign Up Success, Add Vehicle Break, Add Vehic...   \n\n                                  Subscription Premium Cancel  \nuserid                                                         \n0006869712ec9841dc36234bce245203                            0  \n00596aa4edee32815aaf4aad659c484e                            0  \n007b54670d72df309afd87befcbb63db                            0  \n0136a8eeca5d16ac1a521dd0e27ecec0                            0  \n01529f53aaba5b512168d432d5650556                            0  ",
      "text/html": "<div>\n<style scoped>\n    .dataframe tbody tr th:only-of-type {\n        vertical-align: middle;\n    }\n\n    .dataframe tbody tr th {\n        vertical-align: top;\n    }\n\n    .dataframe thead th {\n        text-align: right;\n    }\n</style>\n<table border=\"1\" class=\"dataframe\">\n  <thead>\n    <tr style=\"text-align: right;\">\n      <th></th>\n      <th>event_name</th>\n      <th>Subscription Premium Cancel</th>\n    </tr>\n    <tr>\n      <th>userid</th>\n      <th></th>\n      <th></th>\n    </tr>\n  </thead>\n  <tbody>\n    <tr>\n      <th>0006869712ec9841dc36234bce245203</th>\n      <td>[Add Payment Method Success, Subscription Prem...</td>\n      <td>0</td>\n    </tr>\n    <tr>\n      <th>00596aa4edee32815aaf4aad659c484e</th>\n      <td>[Sign Up Success, Add Vehicle Success, Add Pay...</td>\n      <td>0</td>\n    </tr>\n    <tr>\n      <th>007b54670d72df309afd87befcbb63db</th>\n      <td>[Sign Up Success, Add Vehicle Success, Add Pay...</td>\n      <td>0</td>\n    </tr>\n    <tr>\n      <th>0136a8eeca5d16ac1a521dd0e27ecec0</th>\n      <td>[Email Confirmation Success, Add Vehicle Succe...</td>\n      <td>0</td>\n    </tr>\n    <tr>\n      <th>01529f53aaba5b512168d432d5650556</th>\n      <td>[Sign Up Success, Add Vehicle Break, Add Vehic...</td>\n      <td>0</td>\n    </tr>\n  </tbody>\n</table>\n</div>"
     },
     "execution_count": 21,
     "metadata": {},
     "output_type": "execute_result"
    }
   ],
   "source": [
    "cancel_event_df = pd.concat([id__event_name, id__cancel], axis=1)\n",
    "cancel_event_df.head()"
   ],
   "metadata": {
    "collapsed": false
   }
  },
  {
   "cell_type": "code",
   "execution_count": 27,
   "outputs": [
    {
     "data": {
      "text/plain": "['Sign Up Error',\n 'Order',\n 'Wallet Opened',\n 'Calculator Used',\n 'Account History Transaction Details',\n 'Sign Up Success',\n 'Subscription Premium',\n 'Add Vehicle Success',\n 'Chat Conversation Started',\n 'Add Payment Method Success',\n 'Add Vehicle Failed',\n 'Email Confirmation Success',\n 'Account Setup Profile Skip',\n 'Account Setup Skip',\n 'Calculator View',\n 'Subscription Premium Renew',\n 'Reset Password Set',\n 'Subscription Premium Cancel',\n 'Add Payment Method Failed',\n 'Sign Out',\n 'Add Vehicle Break',\n 'Transaction Refund',\n 'Chat Conversation Opened']"
     },
     "execution_count": 27,
     "metadata": {},
     "output_type": "execute_result"
    }
   ],
   "source": [
    "events = cancel_event_df['event_name']\n",
    "\n",
    "all_events = []\n",
    "for row in events:\n",
    "    for event in row:\n",
    "        all_events.append(event)\n",
    "\n",
    "all_events = list(set(all_events))\n",
    "all_events"
   ],
   "metadata": {
    "collapsed": false
   }
  },
  {
   "cell_type": "code",
   "execution_count": 63,
   "outputs": [
    {
     "data": {
      "text/plain": "   Sign Up Error  Order  Wallet Opened  Calculator Used  \\\n0              0      0              0                0   \n1              0      1              0                0   \n2              0      0              0                0   \n3              0      0              0                0   \n4              0      0              0                0   \n\n   Account History Transaction Details  Sign Up Success  Subscription Premium  \\\n0                                    1                0                     1   \n1                                    0                1                     1   \n2                                    0                1                     1   \n3                                    0                0                     1   \n4                                    1                1                     1   \n\n   Add Vehicle Success  Chat Conversation Started  Add Payment Method Success  \\\n0                    1                          0                           1   \n1                    1                          0                           1   \n2                    1                          1                           1   \n3                    1                          0                           1   \n4                    1                          0                           1   \n\n   ...  Account Setup Skip  Calculator View  Subscription Premium Renew  \\\n0  ...                   0                0                           1   \n1  ...                   0                0                           0   \n2  ...                   0                0                           0   \n3  ...                   0                0                           1   \n4  ...                   0                0                           0   \n\n   Reset Password Set  Subscription Premium Cancel  Add Payment Method Failed  \\\n0                   0                            0                          0   \n1                   0                            0                          0   \n2                   0                            0                          0   \n3                   0                            0                          1   \n4                   0                            0                          0   \n\n   Sign Out  Add Vehicle Break  Transaction Refund  Chat Conversation Opened  \n0         0                  0                   0                         0  \n1         0                  0                   0                         0  \n2         0                  1                   0                         1  \n3         0                  0                   0                         0  \n4         0                  1                   0                         0  \n\n[5 rows x 23 columns]",
      "text/html": "<div>\n<style scoped>\n    .dataframe tbody tr th:only-of-type {\n        vertical-align: middle;\n    }\n\n    .dataframe tbody tr th {\n        vertical-align: top;\n    }\n\n    .dataframe thead th {\n        text-align: right;\n    }\n</style>\n<table border=\"1\" class=\"dataframe\">\n  <thead>\n    <tr style=\"text-align: right;\">\n      <th></th>\n      <th>Sign Up Error</th>\n      <th>Order</th>\n      <th>Wallet Opened</th>\n      <th>Calculator Used</th>\n      <th>Account History Transaction Details</th>\n      <th>Sign Up Success</th>\n      <th>Subscription Premium</th>\n      <th>Add Vehicle Success</th>\n      <th>Chat Conversation Started</th>\n      <th>Add Payment Method Success</th>\n      <th>...</th>\n      <th>Account Setup Skip</th>\n      <th>Calculator View</th>\n      <th>Subscription Premium Renew</th>\n      <th>Reset Password Set</th>\n      <th>Subscription Premium Cancel</th>\n      <th>Add Payment Method Failed</th>\n      <th>Sign Out</th>\n      <th>Add Vehicle Break</th>\n      <th>Transaction Refund</th>\n      <th>Chat Conversation Opened</th>\n    </tr>\n  </thead>\n  <tbody>\n    <tr>\n      <th>0</th>\n      <td>0</td>\n      <td>0</td>\n      <td>0</td>\n      <td>0</td>\n      <td>1</td>\n      <td>0</td>\n      <td>1</td>\n      <td>1</td>\n      <td>0</td>\n      <td>1</td>\n      <td>...</td>\n      <td>0</td>\n      <td>0</td>\n      <td>1</td>\n      <td>0</td>\n      <td>0</td>\n      <td>0</td>\n      <td>0</td>\n      <td>0</td>\n      <td>0</td>\n      <td>0</td>\n    </tr>\n    <tr>\n      <th>1</th>\n      <td>0</td>\n      <td>1</td>\n      <td>0</td>\n      <td>0</td>\n      <td>0</td>\n      <td>1</td>\n      <td>1</td>\n      <td>1</td>\n      <td>0</td>\n      <td>1</td>\n      <td>...</td>\n      <td>0</td>\n      <td>0</td>\n      <td>0</td>\n      <td>0</td>\n      <td>0</td>\n      <td>0</td>\n      <td>0</td>\n      <td>0</td>\n      <td>0</td>\n      <td>0</td>\n    </tr>\n    <tr>\n      <th>2</th>\n      <td>0</td>\n      <td>0</td>\n      <td>0</td>\n      <td>0</td>\n      <td>0</td>\n      <td>1</td>\n      <td>1</td>\n      <td>1</td>\n      <td>1</td>\n      <td>1</td>\n      <td>...</td>\n      <td>0</td>\n      <td>0</td>\n      <td>0</td>\n      <td>0</td>\n      <td>0</td>\n      <td>0</td>\n      <td>0</td>\n      <td>1</td>\n      <td>0</td>\n      <td>1</td>\n    </tr>\n    <tr>\n      <th>3</th>\n      <td>0</td>\n      <td>0</td>\n      <td>0</td>\n      <td>0</td>\n      <td>0</td>\n      <td>0</td>\n      <td>1</td>\n      <td>1</td>\n      <td>0</td>\n      <td>1</td>\n      <td>...</td>\n      <td>0</td>\n      <td>0</td>\n      <td>1</td>\n      <td>0</td>\n      <td>0</td>\n      <td>1</td>\n      <td>0</td>\n      <td>0</td>\n      <td>0</td>\n      <td>0</td>\n    </tr>\n    <tr>\n      <th>4</th>\n      <td>0</td>\n      <td>0</td>\n      <td>0</td>\n      <td>0</td>\n      <td>1</td>\n      <td>1</td>\n      <td>1</td>\n      <td>1</td>\n      <td>0</td>\n      <td>1</td>\n      <td>...</td>\n      <td>0</td>\n      <td>0</td>\n      <td>0</td>\n      <td>0</td>\n      <td>0</td>\n      <td>0</td>\n      <td>0</td>\n      <td>1</td>\n      <td>0</td>\n      <td>0</td>\n    </tr>\n  </tbody>\n</table>\n<p>5 rows × 23 columns</p>\n</div>"
     },
     "execution_count": 63,
     "metadata": {},
     "output_type": "execute_result"
    }
   ],
   "source": [
    "all_events_encoded = pd.DataFrame(columns=all_events)\n",
    "\n",
    "for _, row in cancel_event_df.iterrows():\n",
    "    events = row['event_name']\n",
    "    events_encoded = [0] * len(all_events)\n",
    "    for event in events:\n",
    "        event_index = all_events.index(event)\n",
    "        events_encoded[event_index] = 1\n",
    "\n",
    "    all_events_encoded.loc[len(all_events_encoded)] = events_encoded\n",
    "\n",
    "all_events_encoded.head()"
   ],
   "metadata": {
    "collapsed": false
   }
  },
  {
   "cell_type": "code",
   "execution_count": null,
   "outputs": [],
   "source": [],
   "metadata": {
    "collapsed": false
   }
  }
 ],
 "metadata": {
  "kernelspec": {
   "display_name": "Python 3",
   "language": "python",
   "name": "python3"
  },
  "language_info": {
   "codemirror_mode": {
    "name": "ipython",
    "version": 2
   },
   "file_extension": ".py",
   "mimetype": "text/x-python",
   "name": "python",
   "nbconvert_exporter": "python",
   "pygments_lexer": "ipython2",
   "version": "2.7.6"
  }
 },
 "nbformat": 4,
 "nbformat_minor": 0
}
